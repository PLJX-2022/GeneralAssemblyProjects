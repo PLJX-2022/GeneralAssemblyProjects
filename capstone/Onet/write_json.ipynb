{
 "cells": [
  {
   "cell_type": "code",
   "execution_count": 1,
   "id": "7a007cce-878e-4386-8399-135da34457a0",
   "metadata": {
    "execution": {
     "iopub.execute_input": "2023-05-06T04:31:55.615614Z",
     "iopub.status.busy": "2023-05-06T04:31:55.614708Z",
     "iopub.status.idle": "2023-05-06T04:31:55.624699Z",
     "shell.execute_reply": "2023-05-06T04:31:55.623588Z",
     "shell.execute_reply.started": "2023-05-06T04:31:55.615554Z"
    }
   },
   "outputs": [],
   "source": [
    "import json \n",
    "    \n",
    "# python object(dictionary) to be dumped \n",
    "dict1 ={ \"config\": {\n",
    "    \"username\": \"capstone_project_adj\",\n",
    "    \"password\": \"3664tmr\",\n",
    "    \"max_results\": 3\n",
    "  },\n",
    "  \"queries\": [\n",
    "    \"Structural Engineer\",\n",
    "    \"Receptionist\",\n",
    "    \"Senior IT Manager\"\n",
    "  ]\n",
    "}\n",
    "    \n",
    "# the json file where the output must be stored \n",
    "out_file = open(file='batch_coder_sample_input.json', mode='w') \n",
    "    \n",
    "json.dump(dict1, out_file) \n",
    "    \n",
    "out_file.close() "
   ]
  },
  {
   "cell_type": "code",
   "execution_count": null,
   "id": "4432cad3-6faa-4559-a1fa-6ccdee7acff4",
   "metadata": {},
   "outputs": [],
   "source": []
  }
 ],
 "metadata": {
  "kernelspec": {
   "display_name": "Python [conda env:dsi-sg] *",
   "language": "python",
   "name": "conda-env-dsi-sg-py"
  },
  "language_info": {
   "codemirror_mode": {
    "name": "ipython",
    "version": 3
   },
   "file_extension": ".py",
   "mimetype": "text/x-python",
   "name": "python",
   "nbconvert_exporter": "python",
   "pygments_lexer": "ipython3",
   "version": "3.9.13"
  }
 },
 "nbformat": 4,
 "nbformat_minor": 5
}

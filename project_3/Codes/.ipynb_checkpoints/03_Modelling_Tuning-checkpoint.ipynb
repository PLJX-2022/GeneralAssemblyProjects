{
 "cells": [
  {
   "cell_type": "markdown",
   "id": "1247db2c-89ed-4ddb-a5c1-a88294d46fe2",
   "metadata": {},
   "source": [
    "<img src=\"http://imgur.com/1ZcRyrc.png\" style=\"float: left; margin: 20px; height: 55px\">\n",
    "\n",
    "# <u><b>Project 3:</b></u> Subeddit suitability moderation between r/Discworld r/Cosmere subreddits using NLP classification modelling"
   ]
  },
  {
   "cell_type": "markdown",
   "id": "1169a9e1-8988-412b-b02c-fd025b134832",
   "metadata": {},
   "source": [
    "--- \n",
    "### Part 4: Modelling\n",
    "---"
   ]
  },
  {
   "cell_type": "code",
   "execution_count": 1,
   "id": "7c83c098-1a2d-4f2c-9d38-e329982c408f",
   "metadata": {
    "scrolled": true,
    "tags": []
   },
   "outputs": [],
   "source": [
    "# Import libraries\n",
    "import pandas as pd\n",
    "import numpy as np\n",
    "from sklearn.feature_extraction.text import TfidfVectorizer\n",
    "from sklearn.model_selection import train_test_split, GridSearchCV, cross_val_score\n",
    "from sklearn.metrics import accuracy_score, classification_report, confusion_matrix, ConfusionMatrixDisplay, plot_roc_curve\n",
    "from sklearn.dummy import DummyRegressor\n",
    "from sklearn.pipeline import Pipeline\n",
    "from sklearn.preprocessing import MinMaxScaler\n",
    "from sklearn.compose import ColumnTransformer\n",
    "from sklearn.ensemble import RandomForestClassifier\n",
    "from sklearn.linear_model import LogisticRegression\n",
    "from sklearn.tree import DecisionTreeClassifier\n",
    "from sklearn.naive_bayes import MultinomialNB\n",
    "from sklearn.svm import SVC\n",
    "import eli5\n",
    "from eli5.sklearn import PermutationImportance\n",
    "import matplotlib.pyplot as plt\n",
    "import seaborn as sns\n",
    "\n",
    "from warnings import simplefilter\n",
    "simplefilter(action='ignore', category=FutureWarning)"
   ]
  },
  {
   "cell_type": "code",
   "execution_count": 2,
   "id": "7c2a5506-6728-4afc-99a8-6853c78c91fb",
   "metadata": {
    "scrolled": true
   },
   "outputs": [],
   "source": [
    "# load scrapped posts\n",
    "posts=pd.read_csv('../Data/posts_cleaned.csv')"
   ]
  },
  {
   "cell_type": "code",
   "execution_count": 3,
   "id": "5dd21a6e-f39a-403f-8b84-2c35c927b49e",
   "metadata": {
    "scrolled": true
   },
   "outputs": [
    {
     "data": {
      "text/html": [
       "<div>\n",
       "<style scoped>\n",
       "    .dataframe tbody tr th:only-of-type {\n",
       "        vertical-align: middle;\n",
       "    }\n",
       "\n",
       "    .dataframe tbody tr th {\n",
       "        vertical-align: top;\n",
       "    }\n",
       "\n",
       "    .dataframe thead th {\n",
       "        text-align: right;\n",
       "    }\n",
       "</style>\n",
       "<table border=\"1\" class=\"dataframe\">\n",
       "  <thead>\n",
       "    <tr style=\"text-align: right;\">\n",
       "      <th></th>\n",
       "      <th>titletext</th>\n",
       "      <th>word_count</th>\n",
       "      <th>is_text</th>\n",
       "      <th>is_media</th>\n",
       "      <th>flair_text</th>\n",
       "      <th>is_spoiler</th>\n",
       "      <th>score</th>\n",
       "      <th>upvote_ratio</th>\n",
       "      <th>total_comments</th>\n",
       "      <th>total_awards</th>\n",
       "      <th>author</th>\n",
       "      <th>id</th>\n",
       "      <th>post_url</th>\n",
       "      <th>is_discworld</th>\n",
       "      <th>title_text</th>\n",
       "      <th>sentiment_score</th>\n",
       "      <th>sentiment</th>\n",
       "    </tr>\n",
       "  </thead>\n",
       "  <tbody>\n",
       "    <tr>\n",
       "      <th>0</th>\n",
       "      <td>gnu terry pratchett &gt;in the ramtop village whe...</td>\n",
       "      <td>117</td>\n",
       "      <td>1</td>\n",
       "      <td>0</td>\n",
       "      <td>gnu</td>\n",
       "      <td>0</td>\n",
       "      <td>854</td>\n",
       "      <td>0.99</td>\n",
       "      <td>129</td>\n",
       "      <td>7</td>\n",
       "      <td>Faithful_jewel</td>\n",
       "      <td>ukigit</td>\n",
       "      <td>https://www.reddit.com/r/discworld/comments/uk...</td>\n",
       "      <td>1</td>\n",
       "      <td>gnu terry pratchett ramtop village dance real ...</td>\n",
       "      <td>-0.7717</td>\n",
       "      <td>Negative</td>\n",
       "    </tr>\n",
       "    <tr>\n",
       "      <th>1</th>\n",
       "      <td>sub updates for 2023, including mod recruiting...</td>\n",
       "      <td>522</td>\n",
       "      <td>1</td>\n",
       "      <td>0</td>\n",
       "      <td>mod announcement</td>\n",
       "      <td>0</td>\n",
       "      <td>30</td>\n",
       "      <td>0.96</td>\n",
       "      <td>15</td>\n",
       "      <td>0</td>\n",
       "      <td>Faithful_jewel</td>\n",
       "      <td>10mjmpn</td>\n",
       "      <td>https://www.reddit.com/r/discworld/comments/10...</td>\n",
       "      <td>1</td>\n",
       "      <td>sub update include mod recruiting giveaway meg...</td>\n",
       "      <td>0.9921</td>\n",
       "      <td>Positive</td>\n",
       "    </tr>\n",
       "    <tr>\n",
       "      <th>2</th>\n",
       "      <td>this feels like something death and many other...</td>\n",
       "      <td>10</td>\n",
       "      <td>0</td>\n",
       "      <td>1</td>\n",
       "      <td>memes/humour</td>\n",
       "      <td>0</td>\n",
       "      <td>166</td>\n",
       "      <td>0.96</td>\n",
       "      <td>3</td>\n",
       "      <td>0</td>\n",
       "      <td>Panda-Sandwich</td>\n",
       "      <td>11pxjvp</td>\n",
       "      <td>https://i.redd.it/e013vqitoena1.jpg</td>\n",
       "      <td>1</td>\n",
       "      <td>feel like death</td>\n",
       "      <td>-0.3400</td>\n",
       "      <td>Negative</td>\n",
       "    </tr>\n",
       "    <tr>\n",
       "      <th>3</th>\n",
       "      <td>gnu sir terry, and thank you.</td>\n",
       "      <td>6</td>\n",
       "      <td>0</td>\n",
       "      <td>1</td>\n",
       "      <td>roundworld</td>\n",
       "      <td>0</td>\n",
       "      <td>480</td>\n",
       "      <td>0.99</td>\n",
       "      <td>7</td>\n",
       "      <td>0</td>\n",
       "      <td>gordielaboom</td>\n",
       "      <td>11plpi2</td>\n",
       "      <td>https://i.redd.it/3hrm44c2scna1.jpg</td>\n",
       "      <td>1</td>\n",
       "      <td>gnu sir terry thank</td>\n",
       "      <td>0.3612</td>\n",
       "      <td>Positive</td>\n",
       "    </tr>\n",
       "    <tr>\n",
       "      <th>4</th>\n",
       "      <td>in honor of sir terry pratchett my family and ...</td>\n",
       "      <td>15</td>\n",
       "      <td>0</td>\n",
       "      <td>0</td>\n",
       "      <td>roundworld</td>\n",
       "      <td>0</td>\n",
       "      <td>136</td>\n",
       "      <td>0.94</td>\n",
       "      <td>15</td>\n",
       "      <td>0</td>\n",
       "      <td>Sorellin-Grimm</td>\n",
       "      <td>11pu17r</td>\n",
       "      <td>https://www.reddit.com/gallery/11pu17r</td>\n",
       "      <td>1</td>\n",
       "      <td>honor sir terry pratchett family murder curry ...</td>\n",
       "      <td>-0.3612</td>\n",
       "      <td>Negative</td>\n",
       "    </tr>\n",
       "    <tr>\n",
       "      <th>...</th>\n",
       "      <td>...</td>\n",
       "      <td>...</td>\n",
       "      <td>...</td>\n",
       "      <td>...</td>\n",
       "      <td>...</td>\n",
       "      <td>...</td>\n",
       "      <td>...</td>\n",
       "      <td>...</td>\n",
       "      <td>...</td>\n",
       "      <td>...</td>\n",
       "      <td>...</td>\n",
       "      <td>...</td>\n",
       "      <td>...</td>\n",
       "      <td>...</td>\n",
       "      <td>...</td>\n",
       "      <td>...</td>\n",
       "      <td>...</td>\n",
       "    </tr>\n",
       "    <tr>\n",
       "      <th>1991</th>\n",
       "      <td>way of kings as a gift i'm thinking about gift...</td>\n",
       "      <td>280</td>\n",
       "      <td>1</td>\n",
       "      <td>0</td>\n",
       "      <td>no spoilers</td>\n",
       "      <td>0</td>\n",
       "      <td>4</td>\n",
       "      <td>0.75</td>\n",
       "      <td>2</td>\n",
       "      <td>0</td>\n",
       "      <td>HauntingGold</td>\n",
       "      <td>10evvrr</td>\n",
       "      <td>https://www.reddit.com/r/Cosmere/comments/10ev...</td>\n",
       "      <td>0</td>\n",
       "      <td>way king gift thinking gift father sign copy w...</td>\n",
       "      <td>0.9811</td>\n",
       "      <td>Positive</td>\n",
       "    </tr>\n",
       "    <tr>\n",
       "      <th>1992</th>\n",
       "      <td>literary analysis for sp1 i created a short li...</td>\n",
       "      <td>1900</td>\n",
       "      <td>1</td>\n",
       "      <td>0</td>\n",
       "      <td>tress (sp1)</td>\n",
       "      <td>1</td>\n",
       "      <td>3</td>\n",
       "      <td>0.67</td>\n",
       "      <td>0</td>\n",
       "      <td>0</td>\n",
       "      <td>Ok-Consequence-8106</td>\n",
       "      <td>10evdo8</td>\n",
       "      <td>https://www.reddit.com/r/Cosmere/comments/10ev...</td>\n",
       "      <td>0</td>\n",
       "      <td>literary analysis create short literary analys...</td>\n",
       "      <td>0.9984</td>\n",
       "      <td>Positive</td>\n",
       "    </tr>\n",
       "    <tr>\n",
       "      <th>1993</th>\n",
       "      <td>lord ruler-god theory i do not want any spoile...</td>\n",
       "      <td>89</td>\n",
       "      <td>1</td>\n",
       "      <td>0</td>\n",
       "      <td>stormlight / early mistborn: final empire</td>\n",
       "      <td>1</td>\n",
       "      <td>0</td>\n",
       "      <td>0.46</td>\n",
       "      <td>34</td>\n",
       "      <td>0</td>\n",
       "      <td>Any_Drag3177</td>\n",
       "      <td>10f764r</td>\n",
       "      <td>https://www.reddit.com/r/Cosmere/comments/10f7...</td>\n",
       "      <td>0</td>\n",
       "      <td>lord rulergod theory want spoiler mistborn boo...</td>\n",
       "      <td>0.0772</td>\n",
       "      <td>Positive</td>\n",
       "    </tr>\n",
       "    <tr>\n",
       "      <th>1994</th>\n",
       "      <td>do you invent or discover awakening commands? ...</td>\n",
       "      <td>10</td>\n",
       "      <td>1</td>\n",
       "      <td>0</td>\n",
       "      <td>warbreaker</td>\n",
       "      <td>0</td>\n",
       "      <td>28</td>\n",
       "      <td>0.98</td>\n",
       "      <td>26</td>\n",
       "      <td>0</td>\n",
       "      <td>spaghetto_guy</td>\n",
       "      <td>10eedye</td>\n",
       "      <td>https://www.reddit.com/r/Cosmere/comments/10ee...</td>\n",
       "      <td>0</td>\n",
       "      <td>invent discover awakening command like math</td>\n",
       "      <td>0.3612</td>\n",
       "      <td>Positive</td>\n",
       "    </tr>\n",
       "    <tr>\n",
       "      <th>1995</th>\n",
       "      <td>feruchemy question could a feruchemist who is ...</td>\n",
       "      <td>52</td>\n",
       "      <td>1</td>\n",
       "      <td>0</td>\n",
       "      <td>cosmere</td>\n",
       "      <td>1</td>\n",
       "      <td>12</td>\n",
       "      <td>0.84</td>\n",
       "      <td>17</td>\n",
       "      <td>0</td>\n",
       "      <td>MBPCentral</td>\n",
       "      <td>10ekal5</td>\n",
       "      <td>https://www.reddit.com/r/Cosmere/comments/10ek...</td>\n",
       "      <td>0</td>\n",
       "      <td>feruchemy question feruchemist store mental pr...</td>\n",
       "      <td>-0.4215</td>\n",
       "      <td>Negative</td>\n",
       "    </tr>\n",
       "  </tbody>\n",
       "</table>\n",
       "<p>1996 rows × 17 columns</p>\n",
       "</div>"
      ],
      "text/plain": [
       "                                              titletext  word_count  is_text  \\\n",
       "0     gnu terry pratchett >in the ramtop village whe...         117        1   \n",
       "1     sub updates for 2023, including mod recruiting...         522        1   \n",
       "2     this feels like something death and many other...          10        0   \n",
       "3                         gnu sir terry, and thank you.           6        0   \n",
       "4     in honor of sir terry pratchett my family and ...          15        0   \n",
       "...                                                 ...         ...      ...   \n",
       "1991  way of kings as a gift i'm thinking about gift...         280        1   \n",
       "1992  literary analysis for sp1 i created a short li...        1900        1   \n",
       "1993  lord ruler-god theory i do not want any spoile...          89        1   \n",
       "1994  do you invent or discover awakening commands? ...          10        1   \n",
       "1995  feruchemy question could a feruchemist who is ...          52        1   \n",
       "\n",
       "      is_media                                 flair_text  is_spoiler  score  \\\n",
       "0            0                                        gnu           0    854   \n",
       "1            0                           mod announcement           0     30   \n",
       "2            1                               memes/humour           0    166   \n",
       "3            1                                 roundworld           0    480   \n",
       "4            0                                 roundworld           0    136   \n",
       "...        ...                                        ...         ...    ...   \n",
       "1991         0                                no spoilers           0      4   \n",
       "1992         0                                tress (sp1)           1      3   \n",
       "1993         0  stormlight / early mistborn: final empire           1      0   \n",
       "1994         0                                 warbreaker           0     28   \n",
       "1995         0                                    cosmere           1     12   \n",
       "\n",
       "      upvote_ratio  total_comments  total_awards               author  \\\n",
       "0             0.99             129             7       Faithful_jewel   \n",
       "1             0.96              15             0       Faithful_jewel   \n",
       "2             0.96               3             0       Panda-Sandwich   \n",
       "3             0.99               7             0         gordielaboom   \n",
       "4             0.94              15             0       Sorellin-Grimm   \n",
       "...            ...             ...           ...                  ...   \n",
       "1991          0.75               2             0         HauntingGold   \n",
       "1992          0.67               0             0  Ok-Consequence-8106   \n",
       "1993          0.46              34             0         Any_Drag3177   \n",
       "1994          0.98              26             0        spaghetto_guy   \n",
       "1995          0.84              17             0           MBPCentral   \n",
       "\n",
       "           id                                           post_url  \\\n",
       "0      ukigit  https://www.reddit.com/r/discworld/comments/uk...   \n",
       "1     10mjmpn  https://www.reddit.com/r/discworld/comments/10...   \n",
       "2     11pxjvp                https://i.redd.it/e013vqitoena1.jpg   \n",
       "3     11plpi2                https://i.redd.it/3hrm44c2scna1.jpg   \n",
       "4     11pu17r             https://www.reddit.com/gallery/11pu17r   \n",
       "...       ...                                                ...   \n",
       "1991  10evvrr  https://www.reddit.com/r/Cosmere/comments/10ev...   \n",
       "1992  10evdo8  https://www.reddit.com/r/Cosmere/comments/10ev...   \n",
       "1993  10f764r  https://www.reddit.com/r/Cosmere/comments/10f7...   \n",
       "1994  10eedye  https://www.reddit.com/r/Cosmere/comments/10ee...   \n",
       "1995  10ekal5  https://www.reddit.com/r/Cosmere/comments/10ek...   \n",
       "\n",
       "      is_discworld                                         title_text  \\\n",
       "0                1  gnu terry pratchett ramtop village dance real ...   \n",
       "1                1  sub update include mod recruiting giveaway meg...   \n",
       "2                1                                    feel like death   \n",
       "3                1                                gnu sir terry thank   \n",
       "4                1  honor sir terry pratchett family murder curry ...   \n",
       "...            ...                                                ...   \n",
       "1991             0  way king gift thinking gift father sign copy w...   \n",
       "1992             0  literary analysis create short literary analys...   \n",
       "1993             0  lord rulergod theory want spoiler mistborn boo...   \n",
       "1994             0        invent discover awakening command like math   \n",
       "1995             0  feruchemy question feruchemist store mental pr...   \n",
       "\n",
       "      sentiment_score sentiment  \n",
       "0             -0.7717  Negative  \n",
       "1              0.9921  Positive  \n",
       "2             -0.3400  Negative  \n",
       "3              0.3612  Positive  \n",
       "4             -0.3612  Negative  \n",
       "...               ...       ...  \n",
       "1991           0.9811  Positive  \n",
       "1992           0.9984  Positive  \n",
       "1993           0.0772  Positive  \n",
       "1994           0.3612  Positive  \n",
       "1995          -0.4215  Negative  \n",
       "\n",
       "[1996 rows x 17 columns]"
      ]
     },
     "execution_count": 3,
     "metadata": {},
     "output_type": "execute_result"
    }
   ],
   "source": [
    "posts"
   ]
  },
  {
   "cell_type": "code",
   "execution_count": 4,
   "id": "151d8fa5-35c3-4fdc-bccb-000582a4263e",
   "metadata": {
    "scrolled": true
   },
   "outputs": [
    {
     "data": {
      "text/html": [
       "<div>\n",
       "<style scoped>\n",
       "    .dataframe tbody tr th:only-of-type {\n",
       "        vertical-align: middle;\n",
       "    }\n",
       "\n",
       "    .dataframe tbody tr th {\n",
       "        vertical-align: top;\n",
       "    }\n",
       "\n",
       "    .dataframe thead th {\n",
       "        text-align: right;\n",
       "    }\n",
       "</style>\n",
       "<table border=\"1\" class=\"dataframe\">\n",
       "  <thead>\n",
       "    <tr style=\"text-align: right;\">\n",
       "      <th></th>\n",
       "      <th>titletext</th>\n",
       "      <th>word_count</th>\n",
       "      <th>is_text</th>\n",
       "      <th>is_media</th>\n",
       "      <th>flair_text</th>\n",
       "      <th>is_spoiler</th>\n",
       "      <th>score</th>\n",
       "      <th>upvote_ratio</th>\n",
       "      <th>total_comments</th>\n",
       "      <th>total_awards</th>\n",
       "      <th>author</th>\n",
       "      <th>id</th>\n",
       "      <th>post_url</th>\n",
       "      <th>is_discworld</th>\n",
       "      <th>title_text</th>\n",
       "      <th>sentiment_score</th>\n",
       "      <th>sentiment</th>\n",
       "    </tr>\n",
       "  </thead>\n",
       "  <tbody>\n",
       "    <tr>\n",
       "      <th>547</th>\n",
       "      <td>has someone already done this?</td>\n",
       "      <td>5</td>\n",
       "      <td>0</td>\n",
       "      <td>1</td>\n",
       "      <td>memes/humour</td>\n",
       "      <td>0</td>\n",
       "      <td>975</td>\n",
       "      <td>0.97</td>\n",
       "      <td>25</td>\n",
       "      <td>0</td>\n",
       "      <td>softscottishwind</td>\n",
       "      <td>10z7his</td>\n",
       "      <td>https://i.redd.it/lk7yzcrawhha1.jpg</td>\n",
       "      <td>1</td>\n",
       "      <td>NaN</td>\n",
       "      <td>0.0</td>\n",
       "      <td>Neutral</td>\n",
       "    </tr>\n",
       "    <tr>\n",
       "      <th>616</th>\n",
       "      <td>well which is it?</td>\n",
       "      <td>4</td>\n",
       "      <td>0</td>\n",
       "      <td>1</td>\n",
       "      <td>auditor trap</td>\n",
       "      <td>0</td>\n",
       "      <td>11</td>\n",
       "      <td>0.79</td>\n",
       "      <td>2</td>\n",
       "      <td>0</td>\n",
       "      <td>Front-Pomelo-4367</td>\n",
       "      <td>10w6ole</td>\n",
       "      <td>https://i.redd.it/sv5jatsk1rga1.jpg</td>\n",
       "      <td>1</td>\n",
       "      <td>NaN</td>\n",
       "      <td>0.0</td>\n",
       "      <td>Neutral</td>\n",
       "    </tr>\n",
       "  </tbody>\n",
       "</table>\n",
       "</div>"
      ],
      "text/plain": [
       "                          titletext  word_count  is_text  is_media  \\\n",
       "547  has someone already done this?           5        0         1   \n",
       "616               well which is it?           4        0         1   \n",
       "\n",
       "       flair_text  is_spoiler  score  upvote_ratio  total_comments  \\\n",
       "547  memes/humour           0    975          0.97              25   \n",
       "616  auditor trap           0     11          0.79               2   \n",
       "\n",
       "     total_awards             author       id  \\\n",
       "547             0   softscottishwind  10z7his   \n",
       "616             0  Front-Pomelo-4367  10w6ole   \n",
       "\n",
       "                                post_url  is_discworld title_text  \\\n",
       "547  https://i.redd.it/lk7yzcrawhha1.jpg             1        NaN   \n",
       "616  https://i.redd.it/sv5jatsk1rga1.jpg             1        NaN   \n",
       "\n",
       "     sentiment_score sentiment  \n",
       "547              0.0   Neutral  \n",
       "616              0.0   Neutral  "
      ]
     },
     "execution_count": 4,
     "metadata": {},
     "output_type": "execute_result"
    }
   ],
   "source": [
    "# 2 posts has no more title text after removing all stopwords\n",
    "posts[posts['title_text'].isnull()]"
   ]
  },
  {
   "cell_type": "code",
   "execution_count": 5,
   "id": "1dcd1ce5-fd0a-4293-8c3c-3673d9ec7882",
   "metadata": {
    "scrolled": true
   },
   "outputs": [],
   "source": [
    "posts.dropna(subset=['title_text'],inplace=True)\n",
    "posts=posts.reset_index()"
   ]
  },
  {
   "cell_type": "code",
   "execution_count": 6,
   "id": "13518028-0472-4a5f-bf0d-344398f628e5",
   "metadata": {
    "scrolled": true
   },
   "outputs": [],
   "source": [
    "posts = pd.get_dummies(posts, columns=['sentiment'], drop_first=True)"
   ]
  },
  {
   "cell_type": "code",
   "execution_count": 7,
   "id": "384002e5-4a70-43fc-9590-afc58dd9d14f",
   "metadata": {
    "scrolled": true
   },
   "outputs": [
    {
     "data": {
      "text/plain": [
       "(1994, 19)"
      ]
     },
     "execution_count": 7,
     "metadata": {},
     "output_type": "execute_result"
    }
   ],
   "source": [
    "posts.shape"
   ]
  },
  {
   "cell_type": "markdown",
   "id": "accc9e1d-8a92-49d5-a3d0-38a3a108e8d0",
   "metadata": {},
   "source": [
    "--- \n",
    "### Part 4.1: Baseline Model\n",
    "---"
   ]
  },
  {
   "cell_type": "code",
   "execution_count": 8,
   "id": "e4ac1cdb-8779-4303-b205-f577dda59d27",
   "metadata": {
    "scrolled": true
   },
   "outputs": [],
   "source": [
    "vectorizer = TfidfVectorizer()\n",
    "tfidf_feature=  pd.DataFrame(vectorizer.fit_transform(posts['title_text']).toarray(),columns=vectorizer.get_feature_names_out())\n",
    "scaler = MinMaxScaler()\n",
    "features = pd.DataFrame(scaler.fit_transform(posts[['word_count','is_text', 'is_media','is_spoiler','sentiment_score']]))\n",
    "X=pd.merge(tfidf_feature,features,left_index=True, right_index=True)\n",
    "y= posts['is_discworld']"
   ]
  },
  {
   "cell_type": "code",
   "execution_count": 9,
   "id": "21927133-cdba-40af-9ad4-ae9f4022a4ea",
   "metadata": {
    "scrolled": true
   },
   "outputs": [],
   "source": [
    "X_train, X_test, y_train, y_test = train_test_split(X, y, test_size=0.3, stratify=y, random_state=42)"
   ]
  },
  {
   "cell_type": "code",
   "execution_count": 10,
   "id": "ccd2349e-939f-440c-a2c5-f9d8e97f4364",
   "metadata": {
    "scrolled": true
   },
   "outputs": [
    {
     "data": {
      "text/plain": [
       "0    0.500835\n",
       "1    0.499165\n",
       "Name: is_discworld, dtype: float64"
      ]
     },
     "execution_count": 10,
     "metadata": {},
     "output_type": "execute_result"
    }
   ],
   "source": [
    "y_test.value_counts(normalize=True)"
   ]
  },
  {
   "cell_type": "code",
   "execution_count": 11,
   "id": "01031565-34cc-4896-8058-f8a2f9b64ce4",
   "metadata": {
    "scrolled": true
   },
   "outputs": [],
   "source": [
    "baseline = DummyRegressor(strategy='constant', constant=1)\n",
    "baseline.fit(X_train, y_train)\n",
    "y_pred = baseline.predict(X_test)"
   ]
  },
  {
   "cell_type": "code",
   "execution_count": 12,
   "id": "3721a33a-a200-4965-a95f-a012c439fccd",
   "metadata": {
    "scrolled": true
   },
   "outputs": [
    {
     "data": {
      "text/plain": [
       "0.4991652754590985"
      ]
     },
     "execution_count": 12,
     "metadata": {},
     "output_type": "execute_result"
    }
   ],
   "source": [
    "accuracy_score(y_test, y_pred)"
   ]
  },
  {
   "cell_type": "code",
   "execution_count": 13,
   "id": "34822a9e-e8a2-4c7a-9a17-73374b68f856",
   "metadata": {
    "scrolled": true
   },
   "outputs": [
    {
     "data": {
      "text/plain": [
       "0.9265442404006677"
      ]
     },
     "execution_count": 13,
     "metadata": {},
     "output_type": "execute_result"
    }
   ],
   "source": [
    "# Random Forest Classifier\n",
    "rf_model = RandomForestClassifier()\n",
    "rf_model.fit(X_train, y_train)\n",
    "y_pred= rf_model.predict(X_test)\n",
    "accuracy_score(y_test, y_pred)"
   ]
  },
  {
   "cell_type": "code",
   "execution_count": 14,
   "id": "fff7284f-e6e0-4830-a789-74ba841c134e",
   "metadata": {
    "scrolled": true
   },
   "outputs": [
    {
     "data": {
      "text/plain": [
       "0.8764607679465777"
      ]
     },
     "execution_count": 14,
     "metadata": {},
     "output_type": "execute_result"
    }
   ],
   "source": [
    "# Naive Bayes Classifier\n",
    "nb_model = MultinomialNB()\n",
    "nb_model.fit(X_train, y_train)\n",
    "y_pred= nb_model.predict(X_test)\n",
    "accuracy_score(y_test, y_pred)"
   ]
  },
  {
   "cell_type": "code",
   "execution_count": 15,
   "id": "b30cf133-4d3d-4bbd-81c5-9bc082f3ba2d",
   "metadata": {
    "scrolled": true
   },
   "outputs": [
    {
     "data": {
      "text/plain": [
       "0.8981636060100167"
      ]
     },
     "execution_count": 15,
     "metadata": {},
     "output_type": "execute_result"
    }
   ],
   "source": [
    "# Support Vector Classification\n",
    "svc_model = SVC()\n",
    "svc_model.fit(X_train, y_train)\n",
    "y_pred= svc_model.predict(X_test)\n",
    "accuracy_score(y_test, y_pred)"
   ]
  },
  {
   "cell_type": "markdown",
   "id": "6d262fa6-41f9-42b4-8170-0d0ec08f333f",
   "metadata": {},
   "source": [
    "The baseline model uses a dummy regressor predicting is_discword=1 all the time, and thus as an accuracy score the same as the proportion of discworld posts in the y_test sample.   \n",
    "<br>\n",
    "Implementing ML models such as Random Forest Classifier, Naive Bayes Classifier and Support Vector Classifier, immediately improves the accuracy score predicting discworld posting correctly at least 87% of the time. This indicates that there is value-add in improving prediction leveraging on ML models.  \n",
    "<br>\n",
    "Between the 3 models, Random Forest Classifier appear to have the greatest accuracy at 93%. Though this is prior to any optimisation which may change the results"
   ]
  },
  {
   "cell_type": "markdown",
   "id": "3bc75ab0-81ef-4e24-bd79-d4c5a5147d8e",
   "metadata": {},
   "source": [
    "--- \n",
    "### Part 4.2: Model Tuning\n",
    "---"
   ]
  },
  {
   "cell_type": "code",
   "execution_count": 16,
   "id": "cd89e4c7-d992-4d1e-a7be-8cd200e6f7f2",
   "metadata": {
    "scrolled": true
   },
   "outputs": [],
   "source": [
    "X=posts[['title_text','word_count','is_text', 'is_media','is_spoiler','sentiment_score']]\n",
    "y=posts['is_discworld']\n",
    "X_train, X_test, y_train, y_test = train_test_split(X, y, test_size=0.3, stratify=y, random_state=42)"
   ]
  },
  {
   "cell_type": "code",
   "execution_count": 17,
   "id": "2b3f307e-964c-49f0-b388-e5550fa75078",
   "metadata": {
    "scrolled": true
   },
   "outputs": [],
   "source": [
    "# Define the column transformer\n",
    "transformer = ColumnTransformer(\n",
    "    transformers=[\n",
    "        ('text', TfidfVectorizer(),'title_text'),\n",
    "        ('num', MinMaxScaler(), ['word_count','is_text', 'is_media','is_spoiler','sentiment_score'])\n",
    "    ])"
   ]
  },
  {
   "cell_type": "markdown",
   "id": "2cf1edf9-e080-4241-9645-ead7cc30ce77",
   "metadata": {},
   "source": [
    "### <b><u>Random Forest Classifier</u></b>"
   ]
  },
  {
   "cell_type": "code",
   "execution_count": 18,
   "id": "664e3ebf-5eaa-41be-8e86-7e7c4a18f110",
   "metadata": {
    "scrolled": true
   },
   "outputs": [],
   "source": [
    "# Define Random Forest Classifier pipeline\n",
    "rf_pipeline = Pipeline([\n",
    "    ('transformer', transformer),\n",
    "    ('rf', RandomForestClassifier())\n",
    "])"
   ]
  },
  {
   "cell_type": "code",
   "execution_count": 19,
   "id": "8c0f1ad3-aecc-418a-bf31-20b1586079c6",
   "metadata": {
    "scrolled": true
   },
   "outputs": [],
   "source": [
    "# Define Random Forest parameters to search over\n",
    "rf_parameters = {\n",
    "    'transformer__text__max_features': [200, 250, 300],\n",
    "    'transformer__text__ngram_range': [(1, 1), (1, 2),(1,3)],\n",
    "    'rf__n_estimators': [80,100,120],\n",
    "    'rf__max_depth': [None, 1, 2]\n",
    "}"
   ]
  },
  {
   "cell_type": "code",
   "execution_count": 20,
   "id": "93c45fa8-5db3-43a9-bd46-40fa03e78877",
   "metadata": {
    "scrolled": true
   },
   "outputs": [],
   "source": [
    "# Create the GridSearchCV objects for model\n",
    "rf_grid_search = GridSearchCV(rf_pipeline, rf_parameters, cv=5)"
   ]
  },
  {
   "cell_type": "code",
   "execution_count": 21,
   "id": "d61725b0-b0f0-4a65-9590-ba1416a5b8d6",
   "metadata": {
    "scrolled": true
   },
   "outputs": [
    {
     "name": "stdout",
     "output_type": "stream",
     "text": [
      "CPU times: user 1min 2s, sys: 1.25 s, total: 1min 3s\n",
      "Wall time: 1min 2s\n"
     ]
    },
    {
     "data": {
      "text/html": [
       "<style>#sk-container-id-1 {color: black;background-color: white;}#sk-container-id-1 pre{padding: 0;}#sk-container-id-1 div.sk-toggleable {background-color: white;}#sk-container-id-1 label.sk-toggleable__label {cursor: pointer;display: block;width: 100%;margin-bottom: 0;padding: 0.3em;box-sizing: border-box;text-align: center;}#sk-container-id-1 label.sk-toggleable__label-arrow:before {content: \"▸\";float: left;margin-right: 0.25em;color: #696969;}#sk-container-id-1 label.sk-toggleable__label-arrow:hover:before {color: black;}#sk-container-id-1 div.sk-estimator:hover label.sk-toggleable__label-arrow:before {color: black;}#sk-container-id-1 div.sk-toggleable__content {max-height: 0;max-width: 0;overflow: hidden;text-align: left;background-color: #f0f8ff;}#sk-container-id-1 div.sk-toggleable__content pre {margin: 0.2em;color: black;border-radius: 0.25em;background-color: #f0f8ff;}#sk-container-id-1 input.sk-toggleable__control:checked~div.sk-toggleable__content {max-height: 200px;max-width: 100%;overflow: auto;}#sk-container-id-1 input.sk-toggleable__control:checked~label.sk-toggleable__label-arrow:before {content: \"▾\";}#sk-container-id-1 div.sk-estimator input.sk-toggleable__control:checked~label.sk-toggleable__label {background-color: #d4ebff;}#sk-container-id-1 div.sk-label input.sk-toggleable__control:checked~label.sk-toggleable__label {background-color: #d4ebff;}#sk-container-id-1 input.sk-hidden--visually {border: 0;clip: rect(1px 1px 1px 1px);clip: rect(1px, 1px, 1px, 1px);height: 1px;margin: -1px;overflow: hidden;padding: 0;position: absolute;width: 1px;}#sk-container-id-1 div.sk-estimator {font-family: monospace;background-color: #f0f8ff;border: 1px dotted black;border-radius: 0.25em;box-sizing: border-box;margin-bottom: 0.5em;}#sk-container-id-1 div.sk-estimator:hover {background-color: #d4ebff;}#sk-container-id-1 div.sk-parallel-item::after {content: \"\";width: 100%;border-bottom: 1px solid gray;flex-grow: 1;}#sk-container-id-1 div.sk-label:hover label.sk-toggleable__label {background-color: #d4ebff;}#sk-container-id-1 div.sk-serial::before {content: \"\";position: absolute;border-left: 1px solid gray;box-sizing: border-box;top: 0;bottom: 0;left: 50%;z-index: 0;}#sk-container-id-1 div.sk-serial {display: flex;flex-direction: column;align-items: center;background-color: white;padding-right: 0.2em;padding-left: 0.2em;position: relative;}#sk-container-id-1 div.sk-item {position: relative;z-index: 1;}#sk-container-id-1 div.sk-parallel {display: flex;align-items: stretch;justify-content: center;background-color: white;position: relative;}#sk-container-id-1 div.sk-item::before, #sk-container-id-1 div.sk-parallel-item::before {content: \"\";position: absolute;border-left: 1px solid gray;box-sizing: border-box;top: 0;bottom: 0;left: 50%;z-index: -1;}#sk-container-id-1 div.sk-parallel-item {display: flex;flex-direction: column;z-index: 1;position: relative;background-color: white;}#sk-container-id-1 div.sk-parallel-item:first-child::after {align-self: flex-end;width: 50%;}#sk-container-id-1 div.sk-parallel-item:last-child::after {align-self: flex-start;width: 50%;}#sk-container-id-1 div.sk-parallel-item:only-child::after {width: 0;}#sk-container-id-1 div.sk-dashed-wrapped {border: 1px dashed gray;margin: 0 0.4em 0.5em 0.4em;box-sizing: border-box;padding-bottom: 0.4em;background-color: white;}#sk-container-id-1 div.sk-label label {font-family: monospace;font-weight: bold;display: inline-block;line-height: 1.2em;}#sk-container-id-1 div.sk-label-container {text-align: center;}#sk-container-id-1 div.sk-container {/* jupyter's `normalize.less` sets `[hidden] { display: none; }` but bootstrap.min.css set `[hidden] { display: none !important; }` so we also need the `!important` here to be able to override the default hidden behavior on the sphinx rendered scikit-learn.org. See: https://github.com/scikit-learn/scikit-learn/issues/21755 */display: inline-block !important;position: relative;}#sk-container-id-1 div.sk-text-repr-fallback {display: none;}</style><div id=\"sk-container-id-1\" class=\"sk-top-container\"><div class=\"sk-text-repr-fallback\"><pre>GridSearchCV(cv=5,\n",
       "             estimator=Pipeline(steps=[(&#x27;transformer&#x27;,\n",
       "                                        ColumnTransformer(transformers=[(&#x27;text&#x27;,\n",
       "                                                                         TfidfVectorizer(),\n",
       "                                                                         &#x27;title_text&#x27;),\n",
       "                                                                        (&#x27;num&#x27;,\n",
       "                                                                         MinMaxScaler(),\n",
       "                                                                         [&#x27;word_count&#x27;,\n",
       "                                                                          &#x27;is_text&#x27;,\n",
       "                                                                          &#x27;is_media&#x27;,\n",
       "                                                                          &#x27;is_spoiler&#x27;,\n",
       "                                                                          &#x27;sentiment_score&#x27;])])),\n",
       "                                       (&#x27;rf&#x27;, RandomForestClassifier())]),\n",
       "             param_grid={&#x27;rf__max_depth&#x27;: [None, 1, 2],\n",
       "                         &#x27;rf__n_estimators&#x27;: [80, 100, 120],\n",
       "                         &#x27;transformer__text__max_features&#x27;: [200, 250, 300],\n",
       "                         &#x27;transformer__text__ngram_range&#x27;: [(1, 1), (1, 2),\n",
       "                                                            (1, 3)]})</pre><b>In a Jupyter environment, please rerun this cell to show the HTML representation or trust the notebook. <br />On GitHub, the HTML representation is unable to render, please try loading this page with nbviewer.org.</b></div><div class=\"sk-container\" hidden><div class=\"sk-item sk-dashed-wrapped\"><div class=\"sk-label-container\"><div class=\"sk-label sk-toggleable\"><input class=\"sk-toggleable__control sk-hidden--visually\" id=\"sk-estimator-id-1\" type=\"checkbox\" ><label for=\"sk-estimator-id-1\" class=\"sk-toggleable__label sk-toggleable__label-arrow\">GridSearchCV</label><div class=\"sk-toggleable__content\"><pre>GridSearchCV(cv=5,\n",
       "             estimator=Pipeline(steps=[(&#x27;transformer&#x27;,\n",
       "                                        ColumnTransformer(transformers=[(&#x27;text&#x27;,\n",
       "                                                                         TfidfVectorizer(),\n",
       "                                                                         &#x27;title_text&#x27;),\n",
       "                                                                        (&#x27;num&#x27;,\n",
       "                                                                         MinMaxScaler(),\n",
       "                                                                         [&#x27;word_count&#x27;,\n",
       "                                                                          &#x27;is_text&#x27;,\n",
       "                                                                          &#x27;is_media&#x27;,\n",
       "                                                                          &#x27;is_spoiler&#x27;,\n",
       "                                                                          &#x27;sentiment_score&#x27;])])),\n",
       "                                       (&#x27;rf&#x27;, RandomForestClassifier())]),\n",
       "             param_grid={&#x27;rf__max_depth&#x27;: [None, 1, 2],\n",
       "                         &#x27;rf__n_estimators&#x27;: [80, 100, 120],\n",
       "                         &#x27;transformer__text__max_features&#x27;: [200, 250, 300],\n",
       "                         &#x27;transformer__text__ngram_range&#x27;: [(1, 1), (1, 2),\n",
       "                                                            (1, 3)]})</pre></div></div></div><div class=\"sk-parallel\"><div class=\"sk-parallel-item\"><div class=\"sk-item\"><div class=\"sk-label-container\"><div class=\"sk-label sk-toggleable\"><input class=\"sk-toggleable__control sk-hidden--visually\" id=\"sk-estimator-id-2\" type=\"checkbox\" ><label for=\"sk-estimator-id-2\" class=\"sk-toggleable__label sk-toggleable__label-arrow\">estimator: Pipeline</label><div class=\"sk-toggleable__content\"><pre>Pipeline(steps=[(&#x27;transformer&#x27;,\n",
       "                 ColumnTransformer(transformers=[(&#x27;text&#x27;, TfidfVectorizer(),\n",
       "                                                  &#x27;title_text&#x27;),\n",
       "                                                 (&#x27;num&#x27;, MinMaxScaler(),\n",
       "                                                  [&#x27;word_count&#x27;, &#x27;is_text&#x27;,\n",
       "                                                   &#x27;is_media&#x27;, &#x27;is_spoiler&#x27;,\n",
       "                                                   &#x27;sentiment_score&#x27;])])),\n",
       "                (&#x27;rf&#x27;, RandomForestClassifier())])</pre></div></div></div><div class=\"sk-serial\"><div class=\"sk-item\"><div class=\"sk-serial\"><div class=\"sk-item sk-dashed-wrapped\"><div class=\"sk-label-container\"><div class=\"sk-label sk-toggleable\"><input class=\"sk-toggleable__control sk-hidden--visually\" id=\"sk-estimator-id-3\" type=\"checkbox\" ><label for=\"sk-estimator-id-3\" class=\"sk-toggleable__label sk-toggleable__label-arrow\">transformer: ColumnTransformer</label><div class=\"sk-toggleable__content\"><pre>ColumnTransformer(transformers=[(&#x27;text&#x27;, TfidfVectorizer(), &#x27;title_text&#x27;),\n",
       "                                (&#x27;num&#x27;, MinMaxScaler(),\n",
       "                                 [&#x27;word_count&#x27;, &#x27;is_text&#x27;, &#x27;is_media&#x27;,\n",
       "                                  &#x27;is_spoiler&#x27;, &#x27;sentiment_score&#x27;])])</pre></div></div></div><div class=\"sk-parallel\"><div class=\"sk-parallel-item\"><div class=\"sk-item\"><div class=\"sk-label-container\"><div class=\"sk-label sk-toggleable\"><input class=\"sk-toggleable__control sk-hidden--visually\" id=\"sk-estimator-id-4\" type=\"checkbox\" ><label for=\"sk-estimator-id-4\" class=\"sk-toggleable__label sk-toggleable__label-arrow\">text</label><div class=\"sk-toggleable__content\"><pre>title_text</pre></div></div></div><div class=\"sk-serial\"><div class=\"sk-item\"><div class=\"sk-estimator sk-toggleable\"><input class=\"sk-toggleable__control sk-hidden--visually\" id=\"sk-estimator-id-5\" type=\"checkbox\" ><label for=\"sk-estimator-id-5\" class=\"sk-toggleable__label sk-toggleable__label-arrow\">TfidfVectorizer</label><div class=\"sk-toggleable__content\"><pre>TfidfVectorizer()</pre></div></div></div></div></div></div><div class=\"sk-parallel-item\"><div class=\"sk-item\"><div class=\"sk-label-container\"><div class=\"sk-label sk-toggleable\"><input class=\"sk-toggleable__control sk-hidden--visually\" id=\"sk-estimator-id-6\" type=\"checkbox\" ><label for=\"sk-estimator-id-6\" class=\"sk-toggleable__label sk-toggleable__label-arrow\">num</label><div class=\"sk-toggleable__content\"><pre>[&#x27;word_count&#x27;, &#x27;is_text&#x27;, &#x27;is_media&#x27;, &#x27;is_spoiler&#x27;, &#x27;sentiment_score&#x27;]</pre></div></div></div><div class=\"sk-serial\"><div class=\"sk-item\"><div class=\"sk-estimator sk-toggleable\"><input class=\"sk-toggleable__control sk-hidden--visually\" id=\"sk-estimator-id-7\" type=\"checkbox\" ><label for=\"sk-estimator-id-7\" class=\"sk-toggleable__label sk-toggleable__label-arrow\">MinMaxScaler</label><div class=\"sk-toggleable__content\"><pre>MinMaxScaler()</pre></div></div></div></div></div></div></div></div><div class=\"sk-item\"><div class=\"sk-estimator sk-toggleable\"><input class=\"sk-toggleable__control sk-hidden--visually\" id=\"sk-estimator-id-8\" type=\"checkbox\" ><label for=\"sk-estimator-id-8\" class=\"sk-toggleable__label sk-toggleable__label-arrow\">RandomForestClassifier</label><div class=\"sk-toggleable__content\"><pre>RandomForestClassifier()</pre></div></div></div></div></div></div></div></div></div></div></div></div>"
      ],
      "text/plain": [
       "GridSearchCV(cv=5,\n",
       "             estimator=Pipeline(steps=[('transformer',\n",
       "                                        ColumnTransformer(transformers=[('text',\n",
       "                                                                         TfidfVectorizer(),\n",
       "                                                                         'title_text'),\n",
       "                                                                        ('num',\n",
       "                                                                         MinMaxScaler(),\n",
       "                                                                         ['word_count',\n",
       "                                                                          'is_text',\n",
       "                                                                          'is_media',\n",
       "                                                                          'is_spoiler',\n",
       "                                                                          'sentiment_score'])])),\n",
       "                                       ('rf', RandomForestClassifier())]),\n",
       "             param_grid={'rf__max_depth': [None, 1, 2],\n",
       "                         'rf__n_estimators': [80, 100, 120],\n",
       "                         'transformer__text__max_features': [200, 250, 300],\n",
       "                         'transformer__text__ngram_range': [(1, 1), (1, 2),\n",
       "                                                            (1, 3)]})"
      ]
     },
     "execution_count": 21,
     "metadata": {},
     "output_type": "execute_result"
    }
   ],
   "source": [
    "%%time\n",
    "# Fit the GridSearchCV objects on the data\n",
    "rf_grid_search.fit(X_train, y_train)"
   ]
  },
  {
   "cell_type": "code",
   "execution_count": 22,
   "id": "2bc42e15-d004-435a-a0b8-c47c868fc5e3",
   "metadata": {
    "scrolled": true,
    "tags": []
   },
   "outputs": [
    {
     "name": "stdout",
     "output_type": "stream",
     "text": [
      "Best parameters for Random Forest Classifier: \n",
      " {'rf__max_depth': None, 'rf__n_estimators': 80, 'transformer__text__max_features': 300, 'transformer__text__ngram_range': (1, 1)}\n"
     ]
    }
   ],
   "source": [
    "print('Best parameters for Random Forest Classifier: \\n', rf_grid_search.best_params_)"
   ]
  },
  {
   "cell_type": "code",
   "execution_count": 23,
   "id": "fc0c437e-76b6-4603-8e4a-f0f442d4806f",
   "metadata": {
    "scrolled": true,
    "tags": []
   },
   "outputs": [
    {
     "name": "stdout",
     "output_type": "stream",
     "text": [
      "Classification report for Random Forest model: \n",
      "               precision    recall  f1-score   support\n",
      "\n",
      "           0       0.94      0.94      0.94       300\n",
      "           1       0.94      0.94      0.94       299\n",
      "\n",
      "    accuracy                           0.94       599\n",
      "   macro avg       0.94      0.94      0.94       599\n",
      "weighted avg       0.94      0.94      0.94       599\n",
      "\n",
      " \n",
      "Confusion Matrix for Random Forest model: \n",
      " [[283  17]\n",
      " [ 19 280]]\n",
      " \n",
      "0.9398998330550918\n"
     ]
    }
   ],
   "source": [
    "y_pred = rf_grid_search.predict(X_test)\n",
    "print(\"Classification report for Random Forest model: \\n\", classification_report(y_test, y_pred))\n",
    "print(\" \")\n",
    "print(\"Confusion Matrix for Random Forest model: \\n\", confusion_matrix(y_test, y_pred))\n",
    "print(\" \")\n",
    "print(accuracy_score(y_test, y_pred))"
   ]
  },
  {
   "cell_type": "markdown",
   "id": "deaf2ea5-5498-4eef-b6ad-1185f3afed3f",
   "metadata": {},
   "source": [
    "### <b><u>Naive Bayes Classifier</u></b>"
   ]
  },
  {
   "cell_type": "code",
   "execution_count": 24,
   "id": "859cbcbd-01e7-4583-ae2d-f7f3b2f0748e",
   "metadata": {
    "scrolled": true
   },
   "outputs": [],
   "source": [
    "# Define Naive Bayes Classifier pipeline \n",
    "nb_pipeline = Pipeline([\n",
    "    ('transformer', transformer),\n",
    "    ('nb', MultinomialNB())\n",
    "])"
   ]
  },
  {
   "cell_type": "code",
   "execution_count": 25,
   "id": "87377083-9140-4aa1-aff0-8991201ddf52",
   "metadata": {
    "scrolled": true
   },
   "outputs": [],
   "source": [
    "# Define Naive Bayes Classifier parameters to search over\n",
    "nb_parameters = {\n",
    "    'transformer__text__max_features': [1225, 1250, 1275],\n",
    "    'transformer__text__ngram_range': [(1, 1), (1, 2), (1,3)],\n",
    "    'nb__alpha': [0.01, 0.1, 1]\n",
    "}"
   ]
  },
  {
   "cell_type": "code",
   "execution_count": 26,
   "id": "3094d495-aa5a-4246-af1f-6ab424d9fa8e",
   "metadata": {
    "scrolled": true
   },
   "outputs": [],
   "source": [
    "# Create the GridSearchCV objects for model\n",
    "nb_grid_search = GridSearchCV(nb_pipeline, nb_parameters, cv=5)"
   ]
  },
  {
   "cell_type": "code",
   "execution_count": 27,
   "id": "fdff510b-1b9a-4f0e-95b8-5f6157d9de9f",
   "metadata": {
    "scrolled": true
   },
   "outputs": [
    {
     "name": "stdout",
     "output_type": "stream",
     "text": [
      "CPU times: user 11.5 s, sys: 192 ms, total: 11.7 s\n",
      "Wall time: 11.7 s\n"
     ]
    },
    {
     "data": {
      "text/html": [
       "<style>#sk-container-id-2 {color: black;background-color: white;}#sk-container-id-2 pre{padding: 0;}#sk-container-id-2 div.sk-toggleable {background-color: white;}#sk-container-id-2 label.sk-toggleable__label {cursor: pointer;display: block;width: 100%;margin-bottom: 0;padding: 0.3em;box-sizing: border-box;text-align: center;}#sk-container-id-2 label.sk-toggleable__label-arrow:before {content: \"▸\";float: left;margin-right: 0.25em;color: #696969;}#sk-container-id-2 label.sk-toggleable__label-arrow:hover:before {color: black;}#sk-container-id-2 div.sk-estimator:hover label.sk-toggleable__label-arrow:before {color: black;}#sk-container-id-2 div.sk-toggleable__content {max-height: 0;max-width: 0;overflow: hidden;text-align: left;background-color: #f0f8ff;}#sk-container-id-2 div.sk-toggleable__content pre {margin: 0.2em;color: black;border-radius: 0.25em;background-color: #f0f8ff;}#sk-container-id-2 input.sk-toggleable__control:checked~div.sk-toggleable__content {max-height: 200px;max-width: 100%;overflow: auto;}#sk-container-id-2 input.sk-toggleable__control:checked~label.sk-toggleable__label-arrow:before {content: \"▾\";}#sk-container-id-2 div.sk-estimator input.sk-toggleable__control:checked~label.sk-toggleable__label {background-color: #d4ebff;}#sk-container-id-2 div.sk-label input.sk-toggleable__control:checked~label.sk-toggleable__label {background-color: #d4ebff;}#sk-container-id-2 input.sk-hidden--visually {border: 0;clip: rect(1px 1px 1px 1px);clip: rect(1px, 1px, 1px, 1px);height: 1px;margin: -1px;overflow: hidden;padding: 0;position: absolute;width: 1px;}#sk-container-id-2 div.sk-estimator {font-family: monospace;background-color: #f0f8ff;border: 1px dotted black;border-radius: 0.25em;box-sizing: border-box;margin-bottom: 0.5em;}#sk-container-id-2 div.sk-estimator:hover {background-color: #d4ebff;}#sk-container-id-2 div.sk-parallel-item::after {content: \"\";width: 100%;border-bottom: 1px solid gray;flex-grow: 1;}#sk-container-id-2 div.sk-label:hover label.sk-toggleable__label {background-color: #d4ebff;}#sk-container-id-2 div.sk-serial::before {content: \"\";position: absolute;border-left: 1px solid gray;box-sizing: border-box;top: 0;bottom: 0;left: 50%;z-index: 0;}#sk-container-id-2 div.sk-serial {display: flex;flex-direction: column;align-items: center;background-color: white;padding-right: 0.2em;padding-left: 0.2em;position: relative;}#sk-container-id-2 div.sk-item {position: relative;z-index: 1;}#sk-container-id-2 div.sk-parallel {display: flex;align-items: stretch;justify-content: center;background-color: white;position: relative;}#sk-container-id-2 div.sk-item::before, #sk-container-id-2 div.sk-parallel-item::before {content: \"\";position: absolute;border-left: 1px solid gray;box-sizing: border-box;top: 0;bottom: 0;left: 50%;z-index: -1;}#sk-container-id-2 div.sk-parallel-item {display: flex;flex-direction: column;z-index: 1;position: relative;background-color: white;}#sk-container-id-2 div.sk-parallel-item:first-child::after {align-self: flex-end;width: 50%;}#sk-container-id-2 div.sk-parallel-item:last-child::after {align-self: flex-start;width: 50%;}#sk-container-id-2 div.sk-parallel-item:only-child::after {width: 0;}#sk-container-id-2 div.sk-dashed-wrapped {border: 1px dashed gray;margin: 0 0.4em 0.5em 0.4em;box-sizing: border-box;padding-bottom: 0.4em;background-color: white;}#sk-container-id-2 div.sk-label label {font-family: monospace;font-weight: bold;display: inline-block;line-height: 1.2em;}#sk-container-id-2 div.sk-label-container {text-align: center;}#sk-container-id-2 div.sk-container {/* jupyter's `normalize.less` sets `[hidden] { display: none; }` but bootstrap.min.css set `[hidden] { display: none !important; }` so we also need the `!important` here to be able to override the default hidden behavior on the sphinx rendered scikit-learn.org. See: https://github.com/scikit-learn/scikit-learn/issues/21755 */display: inline-block !important;position: relative;}#sk-container-id-2 div.sk-text-repr-fallback {display: none;}</style><div id=\"sk-container-id-2\" class=\"sk-top-container\"><div class=\"sk-text-repr-fallback\"><pre>GridSearchCV(cv=5,\n",
       "             estimator=Pipeline(steps=[(&#x27;transformer&#x27;,\n",
       "                                        ColumnTransformer(transformers=[(&#x27;text&#x27;,\n",
       "                                                                         TfidfVectorizer(),\n",
       "                                                                         &#x27;title_text&#x27;),\n",
       "                                                                        (&#x27;num&#x27;,\n",
       "                                                                         MinMaxScaler(),\n",
       "                                                                         [&#x27;word_count&#x27;,\n",
       "                                                                          &#x27;is_text&#x27;,\n",
       "                                                                          &#x27;is_media&#x27;,\n",
       "                                                                          &#x27;is_spoiler&#x27;,\n",
       "                                                                          &#x27;sentiment_score&#x27;])])),\n",
       "                                       (&#x27;nb&#x27;, MultinomialNB())]),\n",
       "             param_grid={&#x27;nb__alpha&#x27;: [0.01, 0.1, 1],\n",
       "                         &#x27;transformer__text__max_features&#x27;: [1225, 1250, 1275],\n",
       "                         &#x27;transformer__text__ngram_range&#x27;: [(1, 1), (1, 2),\n",
       "                                                            (1, 3)]})</pre><b>In a Jupyter environment, please rerun this cell to show the HTML representation or trust the notebook. <br />On GitHub, the HTML representation is unable to render, please try loading this page with nbviewer.org.</b></div><div class=\"sk-container\" hidden><div class=\"sk-item sk-dashed-wrapped\"><div class=\"sk-label-container\"><div class=\"sk-label sk-toggleable\"><input class=\"sk-toggleable__control sk-hidden--visually\" id=\"sk-estimator-id-9\" type=\"checkbox\" ><label for=\"sk-estimator-id-9\" class=\"sk-toggleable__label sk-toggleable__label-arrow\">GridSearchCV</label><div class=\"sk-toggleable__content\"><pre>GridSearchCV(cv=5,\n",
       "             estimator=Pipeline(steps=[(&#x27;transformer&#x27;,\n",
       "                                        ColumnTransformer(transformers=[(&#x27;text&#x27;,\n",
       "                                                                         TfidfVectorizer(),\n",
       "                                                                         &#x27;title_text&#x27;),\n",
       "                                                                        (&#x27;num&#x27;,\n",
       "                                                                         MinMaxScaler(),\n",
       "                                                                         [&#x27;word_count&#x27;,\n",
       "                                                                          &#x27;is_text&#x27;,\n",
       "                                                                          &#x27;is_media&#x27;,\n",
       "                                                                          &#x27;is_spoiler&#x27;,\n",
       "                                                                          &#x27;sentiment_score&#x27;])])),\n",
       "                                       (&#x27;nb&#x27;, MultinomialNB())]),\n",
       "             param_grid={&#x27;nb__alpha&#x27;: [0.01, 0.1, 1],\n",
       "                         &#x27;transformer__text__max_features&#x27;: [1225, 1250, 1275],\n",
       "                         &#x27;transformer__text__ngram_range&#x27;: [(1, 1), (1, 2),\n",
       "                                                            (1, 3)]})</pre></div></div></div><div class=\"sk-parallel\"><div class=\"sk-parallel-item\"><div class=\"sk-item\"><div class=\"sk-label-container\"><div class=\"sk-label sk-toggleable\"><input class=\"sk-toggleable__control sk-hidden--visually\" id=\"sk-estimator-id-10\" type=\"checkbox\" ><label for=\"sk-estimator-id-10\" class=\"sk-toggleable__label sk-toggleable__label-arrow\">estimator: Pipeline</label><div class=\"sk-toggleable__content\"><pre>Pipeline(steps=[(&#x27;transformer&#x27;,\n",
       "                 ColumnTransformer(transformers=[(&#x27;text&#x27;, TfidfVectorizer(),\n",
       "                                                  &#x27;title_text&#x27;),\n",
       "                                                 (&#x27;num&#x27;, MinMaxScaler(),\n",
       "                                                  [&#x27;word_count&#x27;, &#x27;is_text&#x27;,\n",
       "                                                   &#x27;is_media&#x27;, &#x27;is_spoiler&#x27;,\n",
       "                                                   &#x27;sentiment_score&#x27;])])),\n",
       "                (&#x27;nb&#x27;, MultinomialNB())])</pre></div></div></div><div class=\"sk-serial\"><div class=\"sk-item\"><div class=\"sk-serial\"><div class=\"sk-item sk-dashed-wrapped\"><div class=\"sk-label-container\"><div class=\"sk-label sk-toggleable\"><input class=\"sk-toggleable__control sk-hidden--visually\" id=\"sk-estimator-id-11\" type=\"checkbox\" ><label for=\"sk-estimator-id-11\" class=\"sk-toggleable__label sk-toggleable__label-arrow\">transformer: ColumnTransformer</label><div class=\"sk-toggleable__content\"><pre>ColumnTransformer(transformers=[(&#x27;text&#x27;, TfidfVectorizer(), &#x27;title_text&#x27;),\n",
       "                                (&#x27;num&#x27;, MinMaxScaler(),\n",
       "                                 [&#x27;word_count&#x27;, &#x27;is_text&#x27;, &#x27;is_media&#x27;,\n",
       "                                  &#x27;is_spoiler&#x27;, &#x27;sentiment_score&#x27;])])</pre></div></div></div><div class=\"sk-parallel\"><div class=\"sk-parallel-item\"><div class=\"sk-item\"><div class=\"sk-label-container\"><div class=\"sk-label sk-toggleable\"><input class=\"sk-toggleable__control sk-hidden--visually\" id=\"sk-estimator-id-12\" type=\"checkbox\" ><label for=\"sk-estimator-id-12\" class=\"sk-toggleable__label sk-toggleable__label-arrow\">text</label><div class=\"sk-toggleable__content\"><pre>title_text</pre></div></div></div><div class=\"sk-serial\"><div class=\"sk-item\"><div class=\"sk-estimator sk-toggleable\"><input class=\"sk-toggleable__control sk-hidden--visually\" id=\"sk-estimator-id-13\" type=\"checkbox\" ><label for=\"sk-estimator-id-13\" class=\"sk-toggleable__label sk-toggleable__label-arrow\">TfidfVectorizer</label><div class=\"sk-toggleable__content\"><pre>TfidfVectorizer()</pre></div></div></div></div></div></div><div class=\"sk-parallel-item\"><div class=\"sk-item\"><div class=\"sk-label-container\"><div class=\"sk-label sk-toggleable\"><input class=\"sk-toggleable__control sk-hidden--visually\" id=\"sk-estimator-id-14\" type=\"checkbox\" ><label for=\"sk-estimator-id-14\" class=\"sk-toggleable__label sk-toggleable__label-arrow\">num</label><div class=\"sk-toggleable__content\"><pre>[&#x27;word_count&#x27;, &#x27;is_text&#x27;, &#x27;is_media&#x27;, &#x27;is_spoiler&#x27;, &#x27;sentiment_score&#x27;]</pre></div></div></div><div class=\"sk-serial\"><div class=\"sk-item\"><div class=\"sk-estimator sk-toggleable\"><input class=\"sk-toggleable__control sk-hidden--visually\" id=\"sk-estimator-id-15\" type=\"checkbox\" ><label for=\"sk-estimator-id-15\" class=\"sk-toggleable__label sk-toggleable__label-arrow\">MinMaxScaler</label><div class=\"sk-toggleable__content\"><pre>MinMaxScaler()</pre></div></div></div></div></div></div></div></div><div class=\"sk-item\"><div class=\"sk-estimator sk-toggleable\"><input class=\"sk-toggleable__control sk-hidden--visually\" id=\"sk-estimator-id-16\" type=\"checkbox\" ><label for=\"sk-estimator-id-16\" class=\"sk-toggleable__label sk-toggleable__label-arrow\">MultinomialNB</label><div class=\"sk-toggleable__content\"><pre>MultinomialNB()</pre></div></div></div></div></div></div></div></div></div></div></div></div>"
      ],
      "text/plain": [
       "GridSearchCV(cv=5,\n",
       "             estimator=Pipeline(steps=[('transformer',\n",
       "                                        ColumnTransformer(transformers=[('text',\n",
       "                                                                         TfidfVectorizer(),\n",
       "                                                                         'title_text'),\n",
       "                                                                        ('num',\n",
       "                                                                         MinMaxScaler(),\n",
       "                                                                         ['word_count',\n",
       "                                                                          'is_text',\n",
       "                                                                          'is_media',\n",
       "                                                                          'is_spoiler',\n",
       "                                                                          'sentiment_score'])])),\n",
       "                                       ('nb', MultinomialNB())]),\n",
       "             param_grid={'nb__alpha': [0.01, 0.1, 1],\n",
       "                         'transformer__text__max_features': [1225, 1250, 1275],\n",
       "                         'transformer__text__ngram_range': [(1, 1), (1, 2),\n",
       "                                                            (1, 3)]})"
      ]
     },
     "execution_count": 27,
     "metadata": {},
     "output_type": "execute_result"
    }
   ],
   "source": [
    "%%time\n",
    "# Fit the GridSearchCV objects on the data\n",
    "nb_grid_search.fit(X_train, y_train)"
   ]
  },
  {
   "cell_type": "code",
   "execution_count": 28,
   "id": "e3295123-9462-49b6-8f86-8837cde8d5c1",
   "metadata": {
    "scrolled": true
   },
   "outputs": [
    {
     "name": "stdout",
     "output_type": "stream",
     "text": [
      "Best parameters for Naive Bayes Classifier: \n",
      " {'nb__alpha': 0.01, 'transformer__text__max_features': 1225, 'transformer__text__ngram_range': (1, 3)}\n"
     ]
    }
   ],
   "source": [
    "print('Best parameters for Naive Bayes Classifier: \\n', nb_grid_search.best_params_)"
   ]
  },
  {
   "cell_type": "code",
   "execution_count": 29,
   "id": "608023a5-0856-4c2b-8277-72fa6b21d8a0",
   "metadata": {
    "scrolled": true
   },
   "outputs": [
    {
     "name": "stdout",
     "output_type": "stream",
     "text": [
      "Classification report for Naive Bayes Classifier model: \n",
      "               precision    recall  f1-score   support\n",
      "\n",
      "           0       0.94      0.96      0.95       300\n",
      "           1       0.96      0.94      0.95       299\n",
      "\n",
      "    accuracy                           0.95       599\n",
      "   macro avg       0.95      0.95      0.95       599\n",
      "weighted avg       0.95      0.95      0.95       599\n",
      "\n",
      " \n",
      "Confusion Matrix for Naive Bayes Classifier model: \n",
      " [[287  13]\n",
      " [ 19 280]]\n",
      " \n",
      "0.9465776293823038\n"
     ]
    }
   ],
   "source": [
    "y_pred = nb_grid_search.predict(X_test)\n",
    "print(\"Classification report for Naive Bayes Classifier model: \\n\", classification_report(y_test, y_pred))\n",
    "print(\" \")\n",
    "print(\"Confusion Matrix for Naive Bayes Classifier model: \\n\", confusion_matrix(y_test, y_pred))\n",
    "print(\" \")\n",
    "print(accuracy_score(y_test, y_pred))"
   ]
  },
  {
   "cell_type": "markdown",
   "id": "c7234d85-72e6-4951-8c5d-d9f815f50247",
   "metadata": {},
   "source": [
    "### <b><u>Support Vector Classifier</u></b>"
   ]
  },
  {
   "cell_type": "code",
   "execution_count": 30,
   "id": "f43beaa7-d123-4e7f-bcb1-8576a07af3e3",
   "metadata": {
    "scrolled": true
   },
   "outputs": [],
   "source": [
    "# Define SVC pipeline \n",
    "svc_pipeline = Pipeline([\n",
    "    ('transformer', transformer),\n",
    "    ('svc', SVC())\n",
    "])"
   ]
  },
  {
   "cell_type": "code",
   "execution_count": 31,
   "id": "366790ae-2fe6-45ae-a8cf-322ebc29c515",
   "metadata": {
    "scrolled": true
   },
   "outputs": [],
   "source": [
    "# Define SVC parameters to search over\n",
    "svc_parameters = {\n",
    "    'transformer__text__max_features': [1250, 1500, 1750],\n",
    "    'transformer__text__ngram_range': [(1, 1), (1, 2), (1,3)],\n",
    "    'svc__C': [5,10,15],\n",
    "    'svc__kernel': ['linear', 'poly', 'rbf'],\n",
    "    'svc__gamma': [0.01, 0.1, 1],\n",
    "    'svc__max_iter':[10000]\n",
    "}"
   ]
  },
  {
   "cell_type": "code",
   "execution_count": 32,
   "id": "34746564-3335-4ec4-99bf-82d007549f76",
   "metadata": {
    "scrolled": true
   },
   "outputs": [],
   "source": [
    "# Create the GridSearchCV objects for model\n",
    "svc_grid_search = GridSearchCV(svc_pipeline, svc_parameters, cv=5)"
   ]
  },
  {
   "cell_type": "code",
   "execution_count": 33,
   "id": "ea080c5c-4a14-492b-9aea-e6c9fab729b7",
   "metadata": {
    "scrolled": true,
    "tags": []
   },
   "outputs": [
    {
     "name": "stdout",
     "output_type": "stream",
     "text": [
      "CPU times: user 3min 46s, sys: 1.93 s, total: 3min 48s\n",
      "Wall time: 3min 48s\n"
     ]
    },
    {
     "data": {
      "text/html": [
       "<style>#sk-container-id-3 {color: black;background-color: white;}#sk-container-id-3 pre{padding: 0;}#sk-container-id-3 div.sk-toggleable {background-color: white;}#sk-container-id-3 label.sk-toggleable__label {cursor: pointer;display: block;width: 100%;margin-bottom: 0;padding: 0.3em;box-sizing: border-box;text-align: center;}#sk-container-id-3 label.sk-toggleable__label-arrow:before {content: \"▸\";float: left;margin-right: 0.25em;color: #696969;}#sk-container-id-3 label.sk-toggleable__label-arrow:hover:before {color: black;}#sk-container-id-3 div.sk-estimator:hover label.sk-toggleable__label-arrow:before {color: black;}#sk-container-id-3 div.sk-toggleable__content {max-height: 0;max-width: 0;overflow: hidden;text-align: left;background-color: #f0f8ff;}#sk-container-id-3 div.sk-toggleable__content pre {margin: 0.2em;color: black;border-radius: 0.25em;background-color: #f0f8ff;}#sk-container-id-3 input.sk-toggleable__control:checked~div.sk-toggleable__content {max-height: 200px;max-width: 100%;overflow: auto;}#sk-container-id-3 input.sk-toggleable__control:checked~label.sk-toggleable__label-arrow:before {content: \"▾\";}#sk-container-id-3 div.sk-estimator input.sk-toggleable__control:checked~label.sk-toggleable__label {background-color: #d4ebff;}#sk-container-id-3 div.sk-label input.sk-toggleable__control:checked~label.sk-toggleable__label {background-color: #d4ebff;}#sk-container-id-3 input.sk-hidden--visually {border: 0;clip: rect(1px 1px 1px 1px);clip: rect(1px, 1px, 1px, 1px);height: 1px;margin: -1px;overflow: hidden;padding: 0;position: absolute;width: 1px;}#sk-container-id-3 div.sk-estimator {font-family: monospace;background-color: #f0f8ff;border: 1px dotted black;border-radius: 0.25em;box-sizing: border-box;margin-bottom: 0.5em;}#sk-container-id-3 div.sk-estimator:hover {background-color: #d4ebff;}#sk-container-id-3 div.sk-parallel-item::after {content: \"\";width: 100%;border-bottom: 1px solid gray;flex-grow: 1;}#sk-container-id-3 div.sk-label:hover label.sk-toggleable__label {background-color: #d4ebff;}#sk-container-id-3 div.sk-serial::before {content: \"\";position: absolute;border-left: 1px solid gray;box-sizing: border-box;top: 0;bottom: 0;left: 50%;z-index: 0;}#sk-container-id-3 div.sk-serial {display: flex;flex-direction: column;align-items: center;background-color: white;padding-right: 0.2em;padding-left: 0.2em;position: relative;}#sk-container-id-3 div.sk-item {position: relative;z-index: 1;}#sk-container-id-3 div.sk-parallel {display: flex;align-items: stretch;justify-content: center;background-color: white;position: relative;}#sk-container-id-3 div.sk-item::before, #sk-container-id-3 div.sk-parallel-item::before {content: \"\";position: absolute;border-left: 1px solid gray;box-sizing: border-box;top: 0;bottom: 0;left: 50%;z-index: -1;}#sk-container-id-3 div.sk-parallel-item {display: flex;flex-direction: column;z-index: 1;position: relative;background-color: white;}#sk-container-id-3 div.sk-parallel-item:first-child::after {align-self: flex-end;width: 50%;}#sk-container-id-3 div.sk-parallel-item:last-child::after {align-self: flex-start;width: 50%;}#sk-container-id-3 div.sk-parallel-item:only-child::after {width: 0;}#sk-container-id-3 div.sk-dashed-wrapped {border: 1px dashed gray;margin: 0 0.4em 0.5em 0.4em;box-sizing: border-box;padding-bottom: 0.4em;background-color: white;}#sk-container-id-3 div.sk-label label {font-family: monospace;font-weight: bold;display: inline-block;line-height: 1.2em;}#sk-container-id-3 div.sk-label-container {text-align: center;}#sk-container-id-3 div.sk-container {/* jupyter's `normalize.less` sets `[hidden] { display: none; }` but bootstrap.min.css set `[hidden] { display: none !important; }` so we also need the `!important` here to be able to override the default hidden behavior on the sphinx rendered scikit-learn.org. See: https://github.com/scikit-learn/scikit-learn/issues/21755 */display: inline-block !important;position: relative;}#sk-container-id-3 div.sk-text-repr-fallback {display: none;}</style><div id=\"sk-container-id-3\" class=\"sk-top-container\"><div class=\"sk-text-repr-fallback\"><pre>GridSearchCV(cv=5,\n",
       "             estimator=Pipeline(steps=[(&#x27;transformer&#x27;,\n",
       "                                        ColumnTransformer(transformers=[(&#x27;text&#x27;,\n",
       "                                                                         TfidfVectorizer(),\n",
       "                                                                         &#x27;title_text&#x27;),\n",
       "                                                                        (&#x27;num&#x27;,\n",
       "                                                                         MinMaxScaler(),\n",
       "                                                                         [&#x27;word_count&#x27;,\n",
       "                                                                          &#x27;is_text&#x27;,\n",
       "                                                                          &#x27;is_media&#x27;,\n",
       "                                                                          &#x27;is_spoiler&#x27;,\n",
       "                                                                          &#x27;sentiment_score&#x27;])])),\n",
       "                                       (&#x27;svc&#x27;, SVC())]),\n",
       "             param_grid={&#x27;svc__C&#x27;: [5, 10, 15], &#x27;svc__gamma&#x27;: [0.01, 0.1, 1],\n",
       "                         &#x27;svc__kernel&#x27;: [&#x27;linear&#x27;, &#x27;poly&#x27;, &#x27;rbf&#x27;],\n",
       "                         &#x27;svc__max_iter&#x27;: [10000],\n",
       "                         &#x27;transformer__text__max_features&#x27;: [1250, 1500, 1750],\n",
       "                         &#x27;transformer__text__ngram_range&#x27;: [(1, 1), (1, 2),\n",
       "                                                            (1, 3)]})</pre><b>In a Jupyter environment, please rerun this cell to show the HTML representation or trust the notebook. <br />On GitHub, the HTML representation is unable to render, please try loading this page with nbviewer.org.</b></div><div class=\"sk-container\" hidden><div class=\"sk-item sk-dashed-wrapped\"><div class=\"sk-label-container\"><div class=\"sk-label sk-toggleable\"><input class=\"sk-toggleable__control sk-hidden--visually\" id=\"sk-estimator-id-17\" type=\"checkbox\" ><label for=\"sk-estimator-id-17\" class=\"sk-toggleable__label sk-toggleable__label-arrow\">GridSearchCV</label><div class=\"sk-toggleable__content\"><pre>GridSearchCV(cv=5,\n",
       "             estimator=Pipeline(steps=[(&#x27;transformer&#x27;,\n",
       "                                        ColumnTransformer(transformers=[(&#x27;text&#x27;,\n",
       "                                                                         TfidfVectorizer(),\n",
       "                                                                         &#x27;title_text&#x27;),\n",
       "                                                                        (&#x27;num&#x27;,\n",
       "                                                                         MinMaxScaler(),\n",
       "                                                                         [&#x27;word_count&#x27;,\n",
       "                                                                          &#x27;is_text&#x27;,\n",
       "                                                                          &#x27;is_media&#x27;,\n",
       "                                                                          &#x27;is_spoiler&#x27;,\n",
       "                                                                          &#x27;sentiment_score&#x27;])])),\n",
       "                                       (&#x27;svc&#x27;, SVC())]),\n",
       "             param_grid={&#x27;svc__C&#x27;: [5, 10, 15], &#x27;svc__gamma&#x27;: [0.01, 0.1, 1],\n",
       "                         &#x27;svc__kernel&#x27;: [&#x27;linear&#x27;, &#x27;poly&#x27;, &#x27;rbf&#x27;],\n",
       "                         &#x27;svc__max_iter&#x27;: [10000],\n",
       "                         &#x27;transformer__text__max_features&#x27;: [1250, 1500, 1750],\n",
       "                         &#x27;transformer__text__ngram_range&#x27;: [(1, 1), (1, 2),\n",
       "                                                            (1, 3)]})</pre></div></div></div><div class=\"sk-parallel\"><div class=\"sk-parallel-item\"><div class=\"sk-item\"><div class=\"sk-label-container\"><div class=\"sk-label sk-toggleable\"><input class=\"sk-toggleable__control sk-hidden--visually\" id=\"sk-estimator-id-18\" type=\"checkbox\" ><label for=\"sk-estimator-id-18\" class=\"sk-toggleable__label sk-toggleable__label-arrow\">estimator: Pipeline</label><div class=\"sk-toggleable__content\"><pre>Pipeline(steps=[(&#x27;transformer&#x27;,\n",
       "                 ColumnTransformer(transformers=[(&#x27;text&#x27;, TfidfVectorizer(),\n",
       "                                                  &#x27;title_text&#x27;),\n",
       "                                                 (&#x27;num&#x27;, MinMaxScaler(),\n",
       "                                                  [&#x27;word_count&#x27;, &#x27;is_text&#x27;,\n",
       "                                                   &#x27;is_media&#x27;, &#x27;is_spoiler&#x27;,\n",
       "                                                   &#x27;sentiment_score&#x27;])])),\n",
       "                (&#x27;svc&#x27;, SVC())])</pre></div></div></div><div class=\"sk-serial\"><div class=\"sk-item\"><div class=\"sk-serial\"><div class=\"sk-item sk-dashed-wrapped\"><div class=\"sk-label-container\"><div class=\"sk-label sk-toggleable\"><input class=\"sk-toggleable__control sk-hidden--visually\" id=\"sk-estimator-id-19\" type=\"checkbox\" ><label for=\"sk-estimator-id-19\" class=\"sk-toggleable__label sk-toggleable__label-arrow\">transformer: ColumnTransformer</label><div class=\"sk-toggleable__content\"><pre>ColumnTransformer(transformers=[(&#x27;text&#x27;, TfidfVectorizer(), &#x27;title_text&#x27;),\n",
       "                                (&#x27;num&#x27;, MinMaxScaler(),\n",
       "                                 [&#x27;word_count&#x27;, &#x27;is_text&#x27;, &#x27;is_media&#x27;,\n",
       "                                  &#x27;is_spoiler&#x27;, &#x27;sentiment_score&#x27;])])</pre></div></div></div><div class=\"sk-parallel\"><div class=\"sk-parallel-item\"><div class=\"sk-item\"><div class=\"sk-label-container\"><div class=\"sk-label sk-toggleable\"><input class=\"sk-toggleable__control sk-hidden--visually\" id=\"sk-estimator-id-20\" type=\"checkbox\" ><label for=\"sk-estimator-id-20\" class=\"sk-toggleable__label sk-toggleable__label-arrow\">text</label><div class=\"sk-toggleable__content\"><pre>title_text</pre></div></div></div><div class=\"sk-serial\"><div class=\"sk-item\"><div class=\"sk-estimator sk-toggleable\"><input class=\"sk-toggleable__control sk-hidden--visually\" id=\"sk-estimator-id-21\" type=\"checkbox\" ><label for=\"sk-estimator-id-21\" class=\"sk-toggleable__label sk-toggleable__label-arrow\">TfidfVectorizer</label><div class=\"sk-toggleable__content\"><pre>TfidfVectorizer()</pre></div></div></div></div></div></div><div class=\"sk-parallel-item\"><div class=\"sk-item\"><div class=\"sk-label-container\"><div class=\"sk-label sk-toggleable\"><input class=\"sk-toggleable__control sk-hidden--visually\" id=\"sk-estimator-id-22\" type=\"checkbox\" ><label for=\"sk-estimator-id-22\" class=\"sk-toggleable__label sk-toggleable__label-arrow\">num</label><div class=\"sk-toggleable__content\"><pre>[&#x27;word_count&#x27;, &#x27;is_text&#x27;, &#x27;is_media&#x27;, &#x27;is_spoiler&#x27;, &#x27;sentiment_score&#x27;]</pre></div></div></div><div class=\"sk-serial\"><div class=\"sk-item\"><div class=\"sk-estimator sk-toggleable\"><input class=\"sk-toggleable__control sk-hidden--visually\" id=\"sk-estimator-id-23\" type=\"checkbox\" ><label for=\"sk-estimator-id-23\" class=\"sk-toggleable__label sk-toggleable__label-arrow\">MinMaxScaler</label><div class=\"sk-toggleable__content\"><pre>MinMaxScaler()</pre></div></div></div></div></div></div></div></div><div class=\"sk-item\"><div class=\"sk-estimator sk-toggleable\"><input class=\"sk-toggleable__control sk-hidden--visually\" id=\"sk-estimator-id-24\" type=\"checkbox\" ><label for=\"sk-estimator-id-24\" class=\"sk-toggleable__label sk-toggleable__label-arrow\">SVC</label><div class=\"sk-toggleable__content\"><pre>SVC()</pre></div></div></div></div></div></div></div></div></div></div></div></div>"
      ],
      "text/plain": [
       "GridSearchCV(cv=5,\n",
       "             estimator=Pipeline(steps=[('transformer',\n",
       "                                        ColumnTransformer(transformers=[('text',\n",
       "                                                                         TfidfVectorizer(),\n",
       "                                                                         'title_text'),\n",
       "                                                                        ('num',\n",
       "                                                                         MinMaxScaler(),\n",
       "                                                                         ['word_count',\n",
       "                                                                          'is_text',\n",
       "                                                                          'is_media',\n",
       "                                                                          'is_spoiler',\n",
       "                                                                          'sentiment_score'])])),\n",
       "                                       ('svc', SVC())]),\n",
       "             param_grid={'svc__C': [5, 10, 15], 'svc__gamma': [0.01, 0.1, 1],\n",
       "                         'svc__kernel': ['linear', 'poly', 'rbf'],\n",
       "                         'svc__max_iter': [10000],\n",
       "                         'transformer__text__max_features': [1250, 1500, 1750],\n",
       "                         'transformer__text__ngram_range': [(1, 1), (1, 2),\n",
       "                                                            (1, 3)]})"
      ]
     },
     "execution_count": 33,
     "metadata": {},
     "output_type": "execute_result"
    }
   ],
   "source": [
    "%%time\n",
    "# Fit the GridSearchCV objects on the data\n",
    "svc_grid_search.fit(X_train, y_train)"
   ]
  },
  {
   "cell_type": "code",
   "execution_count": 34,
   "id": "576c518e-98cf-4d24-bcca-b230bbc9e054",
   "metadata": {
    "scrolled": true
   },
   "outputs": [
    {
     "name": "stdout",
     "output_type": "stream",
     "text": [
      "Best parameters for SVC: \n",
      " {'svc__C': 10, 'svc__gamma': 0.1, 'svc__kernel': 'rbf', 'svc__max_iter': 10000, 'transformer__text__max_features': 1250, 'transformer__text__ngram_range': (1, 2)}\n"
     ]
    }
   ],
   "source": [
    "print('Best parameters for SVC: \\n', svc_grid_search.best_params_)"
   ]
  },
  {
   "cell_type": "code",
   "execution_count": 35,
   "id": "571fa9a4-7407-4cfb-b7e1-aff91286914e",
   "metadata": {
    "scrolled": true
   },
   "outputs": [
    {
     "name": "stdout",
     "output_type": "stream",
     "text": [
      "Classification report for SVC model: \n",
      "               precision    recall  f1-score   support\n",
      "\n",
      "           0       0.95      0.95      0.95       300\n",
      "           1       0.95      0.95      0.95       299\n",
      "\n",
      "    accuracy                           0.95       599\n",
      "   macro avg       0.95      0.95      0.95       599\n",
      "weighted avg       0.95      0.95      0.95       599\n",
      "\n",
      " \n",
      "Confusion Matrix for SVC model: \n",
      " [[285  15]\n",
      " [ 14 285]]\n",
      " \n",
      "0.9515859766277128\n"
     ]
    }
   ],
   "source": [
    "y_pred = svc_grid_search.predict(X_test)\n",
    "print(\"Classification report for SVC model: \\n\", classification_report(y_test, y_pred))\n",
    "print(\" \")\n",
    "print(\"Confusion Matrix for SVC model: \\n\", confusion_matrix(y_test, y_pred))\n",
    "print(\" \")\n",
    "print(accuracy_score(y_test, y_pred))"
   ]
  },
  {
   "cell_type": "markdown",
   "id": "76f8d095-7ace-43d9-a192-0ef2b9835d34",
   "metadata": {},
   "source": [
    "SVC is a type of machine learning algorithm that finds the best decision boundary to separate different classes in a dataset. In NLP, SVC is often used for classification tasks such as sentiment analysis or text classification.\n",
    "\n",
    "When using SVC for NLP, the feature importance of an SVC NLP model refers to how much each word in the text contributes to the classification decision, based on the coefficients of the model. Words with higher coefficients are more important for the classification decision.\n",
    "\n",
    "However this is only possible in linear kernal. The optimized kernel option was \"rbf' therefore was transform by kernel method to another space, which is not related to input space"
   ]
  },
  {
   "cell_type": "markdown",
   "id": "d97c1fc7-5efc-44ec-b34d-8c6bf63f43df",
   "metadata": {},
   "source": [
    "--- \n",
    "### Part 4.3: Model Evaluation\n",
    "---"
   ]
  },
  {
   "cell_type": "code",
   "execution_count": 36,
   "id": "ebcb3bf7-8b57-43ab-9c91-f4ed4617f473",
   "metadata": {
    "scrolled": true,
    "tags": []
   },
   "outputs": [
    {
     "data": {
      "text/plain": [
       "<matplotlib.legend.Legend at 0x145a78c10>"
      ]
     },
     "execution_count": 36,
     "metadata": {},
     "output_type": "execute_result"
    },
    {
     "data": {
      "image/png": "[encoded data removed]",
      "text/plain": [
       "<Figure size 900x500 with 1 Axes>"
      ]
     },
     "metadata": {},
     "output_type": "display_data"
    }
   ],
   "source": [
    "fig, ax = plt.subplots(1, 1, figsize=(9,5))\n",
    "plot_roc_curve(rf_grid_search, X_test, y_test, ax=ax, name='RandomForestClassifier', color='grey')\n",
    "plot_roc_curve(nb_grid_search, X_test, y_test, ax=ax, name='MultinomialNB', color='grey')\n",
    "plot_roc_curve(svc_grid_search, X_test, y_test, ax=ax, name='SupportVectorClassifier', color='blue')\n",
    "plt.plot([0, 1], [0, 1], color='lightgrey', lw=2, linestyle='--', label='Baseline Model')\n",
    "plt.legend()"
   ]
  },
  {
   "cell_type": "markdown",
   "id": "4cbbfbdd-45bb-448b-a1c9-7e4faa1b65a3",
   "metadata": {},
   "source": [
    "As this project aims to help r/Discworld and r/Cosmere mods to perform the routine task of identifying posts that are more suitable for the other sub than their own, and make that suggestion to the OP for a more suitable platform, accuracy is most important. As a social media platform there are no significant detrimental effect in a false prediction. All 3 optimised models have similar accuracy with SVC performing marginally better, being able to which subreddit should the post below to 95.1% of the time, based on our text and categorical features. \n",
    "\n",
    "|               | PREDICTED: NO | PREDICTED: YES|\n",
    "|---------------|:-------------:|:-------------:|\n",
    "| ACTUAL: NO    | 285           | 15            |\n",
    "| ACTUAL: YES   | 14            | 285           |\n",
    "\n",
    "Sensitivity :TP / (TP + FN) = 285 / (14 + 285) = 95.3 % <br>\n",
    "False Negative Rate: FN / (TP + FN) = 14 / (14 + 285) = 4.7% <br>\n",
    "Specificity: TN / (TN + FP) = 285 / (285 + 15) = 95% <br>\n",
    "False Positive Rate: FP / (TN + FP) = 15 / (285 + 15) = 5% <br>\n",
    "\n",
    "Since this project aims to help suggest soon after the post is submitted, ex-ante features like `total_score` and `total_award` were not used in the model training as such information only comes after some time has passed. \n",
    "\n",
    "The Receiver Operator Characteristic (ROC) curve is an evaluation metric for binary classification problems. It is a probability curve that plots the Specificity against the False Positive Rate at various threshold values and essentially separates the signal from the noise. In other words, it shows the performance of a classification model at all classification thresholds. The Area Under the Curve (AUC) is the measure of the ability of a binary classifier to distinguish between classes and is used as a summary of the ROC curve. \n",
    "\n",
    "The model also has high AUC-ROC score of 0.99. which is the probability that the model will assign a larger probability to a random positive example than a random negative. We can interpret this metric as proof that that this model good as distinguishing between classes. The model does well in terms of recall too, with only 14 false negatives (predicted r/cosmere but actually r/discworld posts)."
   ]
  },
  {
   "cell_type": "markdown",
   "id": "53c120d7-855d-48b9-b39d-a957859272b0",
   "metadata": {
    "tags": []
   },
   "source": [
    "--- \n",
    "### Part 4.4: Future improvements\n",
    "---"
   ]
  },
  {
   "cell_type": "markdown",
   "id": "b4d1211c-d5c0-46ff-914f-1f44fb85b825",
   "metadata": {},
   "source": [
    "We now look at where the model had not predicted correctly to see how we can improve on it in future iterations."
   ]
  },
  {
   "cell_type": "code",
   "execution_count": 37,
   "id": "e1ecdc63-7d12-4006-a12d-1a12ad7ee80b",
   "metadata": {
    "scrolled": true
   },
   "outputs": [],
   "source": [
    "#stringing back data together for further investigation on why the model selected wrongly\n",
    "comparing_preds=pd.merge(X_test,pd.DataFrame(posts.loc[:,['titletext','id']]),how='inner',left_index=True, right_index=True)\n",
    "comparing_preds=pd.merge(comparing_preds,pd.DataFrame(y_test),left_index=True, right_index=True)\n",
    "comparing_preds=comparing_preds.reset_index(drop=True)\n",
    "comparing_preds=pd.merge(comparing_preds,pd.DataFrame(y_pred),left_index=True, right_index=True)\n",
    "comparing_preds=comparing_preds.rename(columns={0:'preds'})\n",
    "comparing_preds['false_preds']=np.where(comparing_preds['is_discworld']!=comparing_preds['preds'],1,0)"
   ]
  },
  {
   "cell_type": "code",
   "execution_count": 38,
   "id": "cbbd0d57-5e30-463b-8af4-50ad0376ec2a",
   "metadata": {
    "scrolled": true
   },
   "outputs": [
    {
     "data": {
      "text/html": [
       "<div>\n",
       "<style scoped>\n",
       "    .dataframe tbody tr th:only-of-type {\n",
       "        vertical-align: middle;\n",
       "    }\n",
       "\n",
       "    .dataframe tbody tr th {\n",
       "        vertical-align: top;\n",
       "    }\n",
       "\n",
       "    .dataframe thead th {\n",
       "        text-align: right;\n",
       "    }\n",
       "</style>\n",
       "<table border=\"1\" class=\"dataframe\">\n",
       "  <thead>\n",
       "    <tr style=\"text-align: right;\">\n",
       "      <th></th>\n",
       "      <th>title_text</th>\n",
       "      <th>word_count</th>\n",
       "      <th>is_text</th>\n",
       "      <th>is_media</th>\n",
       "      <th>is_spoiler</th>\n",
       "      <th>sentiment_score</th>\n",
       "      <th>titletext</th>\n",
       "      <th>id</th>\n",
       "      <th>is_discworld</th>\n",
       "      <th>preds</th>\n",
       "      <th>false_preds</th>\n",
       "    </tr>\n",
       "  </thead>\n",
       "  <tbody>\n",
       "    <tr>\n",
       "      <th>52</th>\n",
       "      <td>lore channelspodcast good channel youtube podc...</td>\n",
       "      <td>17</td>\n",
       "      <td>1</td>\n",
       "      <td>0</td>\n",
       "      <td>0</td>\n",
       "      <td>0.4404</td>\n",
       "      <td>lore channels/podcasts is there any good chann...</td>\n",
       "      <td>11olg82</td>\n",
       "      <td>1</td>\n",
       "      <td>0</td>\n",
       "      <td>1</td>\n",
       "    </tr>\n",
       "    <tr>\n",
       "      <th>99</th>\n",
       "      <td>audiobook recommendation husband finally agree...</td>\n",
       "      <td>64</td>\n",
       "      <td>1</td>\n",
       "      <td>0</td>\n",
       "      <td>0</td>\n",
       "      <td>0.8591</td>\n",
       "      <td>audiobook recommendation so my husband has fin...</td>\n",
       "      <td>10fmtkp</td>\n",
       "      <td>1</td>\n",
       "      <td>0</td>\n",
       "      <td>1</td>\n",
       "    </tr>\n",
       "    <tr>\n",
       "      <th>169</th>\n",
       "      <td>think scene spoiler make money</td>\n",
       "      <td>12</td>\n",
       "      <td>0</td>\n",
       "      <td>1</td>\n",
       "      <td>1</td>\n",
       "      <td>0.0000</td>\n",
       "      <td>all i could think about during this scene. (sp...</td>\n",
       "      <td>11ii3ct</td>\n",
       "      <td>1</td>\n",
       "      <td>0</td>\n",
       "      <td>1</td>\n",
       "    </tr>\n",
       "    <tr>\n",
       "      <th>195</th>\n",
       "      <td>think whilst look buswindowreaper man wonder b...</td>\n",
       "      <td>44</td>\n",
       "      <td>1</td>\n",
       "      <td>0</td>\n",
       "      <td>1</td>\n",
       "      <td>0.5574</td>\n",
       "      <td>a thought whilst looking out of the buswindow....</td>\n",
       "      <td>113k9ke</td>\n",
       "      <td>1</td>\n",
       "      <td>0</td>\n",
       "      <td>1</td>\n",
       "    </tr>\n",
       "    <tr>\n",
       "      <th>222</th>\n",
       "      <td>shepherdess chimney sweep find probable inspir...</td>\n",
       "      <td>60</td>\n",
       "      <td>1</td>\n",
       "      <td>0</td>\n",
       "      <td>1</td>\n",
       "      <td>0.9081</td>\n",
       "      <td>the shepherdess and the chimney sweep found th...</td>\n",
       "      <td>11kot28</td>\n",
       "      <td>1</td>\n",
       "      <td>0</td>\n",
       "      <td>1</td>\n",
       "    </tr>\n",
       "    <tr>\n",
       "      <th>291</th>\n",
       "      <td>question tiffany ache wee free man tiffany jou...</td>\n",
       "      <td>80</td>\n",
       "      <td>1</td>\n",
       "      <td>0</td>\n",
       "      <td>1</td>\n",
       "      <td>-0.1280</td>\n",
       "      <td>question about tiffany aching in *wee free men...</td>\n",
       "      <td>10cpsvw</td>\n",
       "      <td>1</td>\n",
       "      <td>0</td>\n",
       "      <td>1</td>\n",
       "    </tr>\n",
       "    <tr>\n",
       "      <th>309</th>\n",
       "      <td>auditor trap</td>\n",
       "      <td>2</td>\n",
       "      <td>0</td>\n",
       "      <td>1</td>\n",
       "      <td>1</td>\n",
       "      <td>-0.3182</td>\n",
       "      <td>auditor trap</td>\n",
       "      <td>11j07yv</td>\n",
       "      <td>1</td>\n",
       "      <td>0</td>\n",
       "      <td>1</td>\n",
       "    </tr>\n",
       "    <tr>\n",
       "      <th>401</th>\n",
       "      <td>perfect cry</td>\n",
       "      <td>6</td>\n",
       "      <td>0</td>\n",
       "      <td>1</td>\n",
       "      <td>1</td>\n",
       "      <td>0.1531</td>\n",
       "      <td>this is so perfect i'm crying</td>\n",
       "      <td>10bkpne</td>\n",
       "      <td>1</td>\n",
       "      <td>0</td>\n",
       "      <td>1</td>\n",
       "    </tr>\n",
       "    <tr>\n",
       "      <th>405</th>\n",
       "      <td>digger finish digger remember say be not good ...</td>\n",
       "      <td>45</td>\n",
       "      <td>1</td>\n",
       "      <td>0</td>\n",
       "      <td>1</td>\n",
       "      <td>0.1536</td>\n",
       "      <td>diggers just finished diggers. i remember some...</td>\n",
       "      <td>10yewcv</td>\n",
       "      <td>1</td>\n",
       "      <td>0</td>\n",
       "      <td>1</td>\n",
       "    </tr>\n",
       "    <tr>\n",
       "      <th>443</th>\n",
       "      <td>finally decide time shepherd crown start chapt...</td>\n",
       "      <td>23</td>\n",
       "      <td>1</td>\n",
       "      <td>0</td>\n",
       "      <td>1</td>\n",
       "      <td>0.0000</td>\n",
       "      <td>finally decided it was time for the shepherd's...</td>\n",
       "      <td>10oyfwx</td>\n",
       "      <td>1</td>\n",
       "      <td>0</td>\n",
       "      <td>1</td>\n",
       "    </tr>\n",
       "    <tr>\n",
       "      <th>533</th>\n",
       "      <td>leshp jingo maybe discuss maybe everybody know...</td>\n",
       "      <td>79</td>\n",
       "      <td>1</td>\n",
       "      <td>0</td>\n",
       "      <td>1</td>\n",
       "      <td>0.2732</td>\n",
       "      <td>leshp - jingo maybe this is something that has...</td>\n",
       "      <td>10gvzp2</td>\n",
       "      <td>1</td>\n",
       "      <td>0</td>\n",
       "      <td>1</td>\n",
       "    </tr>\n",
       "    <tr>\n",
       "      <th>548</th>\n",
       "      <td>discs hey rdiscworld question google fail mear...</td>\n",
       "      <td>109</td>\n",
       "      <td>1</td>\n",
       "      <td>0</td>\n",
       "      <td>1</td>\n",
       "      <td>0.4767</td>\n",
       "      <td>other discs hey there r/discworld \\n\\nquestion...</td>\n",
       "      <td>10eppxg</td>\n",
       "      <td>1</td>\n",
       "      <td>0</td>\n",
       "      <td>1</td>\n",
       "    </tr>\n",
       "    <tr>\n",
       "      <th>567</th>\n",
       "      <td>dead notrat conker</td>\n",
       "      <td>3</td>\n",
       "      <td>0</td>\n",
       "      <td>1</td>\n",
       "      <td>1</td>\n",
       "      <td>-0.6486</td>\n",
       "      <td>dead notrat conkers</td>\n",
       "      <td>10e909g</td>\n",
       "      <td>1</td>\n",
       "      <td>0</td>\n",
       "      <td>1</td>\n",
       "    </tr>\n",
       "    <tr>\n",
       "      <th>589</th>\n",
       "      <td>thought brandon sanderson ’s write contrast pr...</td>\n",
       "      <td>126</td>\n",
       "      <td>1</td>\n",
       "      <td>0</td>\n",
       "      <td>0</td>\n",
       "      <td>-0.8115</td>\n",
       "      <td>any thoughts on brandon sanderson’s writing in...</td>\n",
       "      <td>10vq11j</td>\n",
       "      <td>1</td>\n",
       "      <td>0</td>\n",
       "      <td>1</td>\n",
       "    </tr>\n",
       "  </tbody>\n",
       "</table>\n",
       "</div>"
      ],
      "text/plain": [
       "                                            title_text  word_count  is_text  \\\n",
       "52   lore channelspodcast good channel youtube podc...          17        1   \n",
       "99   audiobook recommendation husband finally agree...          64        1   \n",
       "169                     think scene spoiler make money          12        0   \n",
       "195  think whilst look buswindowreaper man wonder b...          44        1   \n",
       "222  shepherdess chimney sweep find probable inspir...          60        1   \n",
       "291  question tiffany ache wee free man tiffany jou...          80        1   \n",
       "309                                       auditor trap           2        0   \n",
       "401                                        perfect cry           6        0   \n",
       "405  digger finish digger remember say be not good ...          45        1   \n",
       "443  finally decide time shepherd crown start chapt...          23        1   \n",
       "533  leshp jingo maybe discuss maybe everybody know...          79        1   \n",
       "548  discs hey rdiscworld question google fail mear...         109        1   \n",
       "567                                 dead notrat conker           3        0   \n",
       "589  thought brandon sanderson ’s write contrast pr...         126        1   \n",
       "\n",
       "     is_media  is_spoiler  sentiment_score  \\\n",
       "52          0           0           0.4404   \n",
       "99          0           0           0.8591   \n",
       "169         1           1           0.0000   \n",
       "195         0           1           0.5574   \n",
       "222         0           1           0.9081   \n",
       "291         0           1          -0.1280   \n",
       "309         1           1          -0.3182   \n",
       "401         1           1           0.1531   \n",
       "405         0           1           0.1536   \n",
       "443         0           1           0.0000   \n",
       "533         0           1           0.2732   \n",
       "548         0           1           0.4767   \n",
       "567         1           1          -0.6486   \n",
       "589         0           0          -0.8115   \n",
       "\n",
       "                                             titletext       id  is_discworld  \\\n",
       "52   lore channels/podcasts is there any good chann...  11olg82             1   \n",
       "99   audiobook recommendation so my husband has fin...  10fmtkp             1   \n",
       "169  all i could think about during this scene. (sp...  11ii3ct             1   \n",
       "195  a thought whilst looking out of the buswindow....  113k9ke             1   \n",
       "222  the shepherdess and the chimney sweep found th...  11kot28             1   \n",
       "291  question about tiffany aching in *wee free men...  10cpsvw             1   \n",
       "309                                       auditor trap  11j07yv             1   \n",
       "401                      this is so perfect i'm crying  10bkpne             1   \n",
       "405  diggers just finished diggers. i remember some...  10yewcv             1   \n",
       "443  finally decided it was time for the shepherd's...  10oyfwx             1   \n",
       "533  leshp - jingo maybe this is something that has...  10gvzp2             1   \n",
       "548  other discs hey there r/discworld \\n\\nquestion...  10eppxg             1   \n",
       "567                                dead notrat conkers  10e909g             1   \n",
       "589  any thoughts on brandon sanderson’s writing in...  10vq11j             1   \n",
       "\n",
       "     preds  false_preds  \n",
       "52       0            1  \n",
       "99       0            1  \n",
       "169      0            1  \n",
       "195      0            1  \n",
       "222      0            1  \n",
       "291      0            1  \n",
       "309      0            1  \n",
       "401      0            1  \n",
       "405      0            1  \n",
       "443      0            1  \n",
       "533      0            1  \n",
       "548      0            1  \n",
       "567      0            1  \n",
       "589      0            1  "
      ]
     },
     "execution_count": 38,
     "metadata": {},
     "output_type": "execute_result"
    }
   ],
   "source": [
    "wrong_dw=comparing_preds[(comparing_preds['false_preds']==1) & (comparing_preds['is_discworld']==1)]\n",
    "wrong_dw"
   ]
  },
  {
   "cell_type": "code",
   "execution_count": 39,
   "id": "5ec95ddf-c426-4e37-bc35-d0ae2c3ea9d6",
   "metadata": {
    "scrolled": true,
    "tags": []
   },
   "outputs": [
    {
     "name": "stdout",
     "output_type": "stream",
     "text": [
      "lore channels/podcasts is there any good channels on youtube or podcasts that talk about in universe stories/lore?\n",
      " \n",
      "-----\n",
      "audiobook recommendation so my husband has finally agreed to give discworld a chance. he wants to start with an audiobook, i have them narrated by nigel planer and stephen briggs (i also have the bbc radio versions of a few). my husband likes modern urban fantasy and a book has to grab him pretty much from the start. \n",
      "any ideas on where to start?\n",
      " \n",
      "-----\n",
      "all i could think about during this scene. (spoilers for making money)\n",
      " \n",
      "-----\n",
      "a thought whilst looking out of the buswindow...(reaper man) i wonder if there could have been/would have been a continuation of the 'living shopping cart' comcept if stp had seen the wildly strewn about e-scooters.\n",
      "\n",
      "they feels like animals scattered about god knows where.\n",
      " \n",
      "-----\n",
      "the shepherdess and the chimney sweep found this probable inspiration for tiffany's porcelain shepherdess by accident:\n",
      "https://literature.fandom.com/wiki/the_shepherdess_and_the_chimney_sweep\n",
      "\n",
      "is this common knowledge in the community?\n",
      "\n",
      "have to reread the tiffany books to see how much inspiration, though. can't really remember the plots after wee free men. (not sure why...)\n",
      "\n",
      "can anyone chime in? are there more connections apart from the figure?\n",
      " \n",
      "-----\n",
      "question about tiffany aching in *wee free men* tiffany journeys into the land of the elf queen to retrieve her brother.  \n",
      "she takes a frying pan with her as her weapon of choice.\n",
      "\n",
      "how was she able to take the frying pan with her?\n",
      "\n",
      "when granny weatherwax went into the same parasitic world the nails in her boots were ripped out.  \n",
      "also, when nanny ogg visited the king of the elves she had to specifically take a horseshoe from binky.\n",
      " \n",
      "-----\n",
      "auditor trap\n",
      " \n",
      "-----\n",
      "this is so perfect i'm crying\n",
      " \n",
      "-----\n",
      "diggers just finished diggers. i remember someone here saying it wasn’t as good as truckers but i have to admit that it was better than i expected!\n",
      "\n",
      "i liked how >!grimma became the focus of the story!<.\n",
      "\n",
      "looking forward to seeing how this trilogy concludes.\n",
      " \n",
      "-----\n",
      "finally decided it was time for the shepherd's crown am just started chapter 4.\n",
      "anyone who has read it knows how i feel.\n",
      " \n",
      "-----\n",
      "leshp - jingo maybe this is something that has be discussed already, or maybe everybody knows. i just don't know what leshp really is. i've read certain bits of jingo many times trying to catch some references to understand what the mysterious island is. leonard says it is too small to be a giant turtle but because of the conversation they have when they get in or underneath leshp, i understand it is a giant animal. am i right?\n",
      " \n",
      "-----\n",
      "other discs hey there r/discworld \n",
      "\n",
      "question for you, because google failed me\n",
      "\n",
      "are there other discworlds out among the stars with life on them? i know the light fantastic ends with great a'tuins babies hatching (at least, i assume they are his. also, i assume a'tuin is male, but that's besides the point) \n",
      "\n",
      "i swear i remember reading in passing once (on the internet, not in the books. yet.) that another discworld appears and is described as having a world tree. i've been listening to the new audio recordings on audible, so my consumption of the books is limited for the time being until they release the next batch.\n",
      " \n",
      "-----\n",
      "dead notrat conkers\n",
      " \n",
      "-----\n",
      "any thoughts on brandon sanderson’s writing in contrast to pratchett’s? i have a silly little podcast with a friend and he’s big into fantasy books. he got me into lies of locke lamora (i’d recommend it up until the third book), the assassin’s apprentice (not far enough in to give an opinion, and sanderson’s mistborn trilogy and discworld.\n",
      "\n",
      "any opinions on how they contrast in world building? character creation?\n",
      "\n",
      "personally, i got so sick of the gratuitous violence, assault, and vague racism that i needed a pallet cleanser and discworld has been it for me. mort especially has been a highlight.\n",
      "\n",
      "any thoughts? i’d like to hear from someone who has read more sanderson than i especially, cause i’ve only read 2 1/2 novels of his.\n",
      " \n",
      "-----\n"
     ]
    }
   ],
   "source": [
    "for _, row in wrong_dw.iterrows():\n",
    "    print(row['titletext'])\n",
    "    print(' ')\n",
    "    print('-----')"
   ]
  },
  {
   "cell_type": "code",
   "execution_count": 40,
   "id": "8163d374-64ad-46af-887d-21afbdfe5277",
   "metadata": {
    "scrolled": true,
    "tags": []
   },
   "outputs": [
    {
     "data": {
      "text/html": [
       "<div>\n",
       "<style scoped>\n",
       "    .dataframe tbody tr th:only-of-type {\n",
       "        vertical-align: middle;\n",
       "    }\n",
       "\n",
       "    .dataframe tbody tr th {\n",
       "        vertical-align: top;\n",
       "    }\n",
       "\n",
       "    .dataframe thead th {\n",
       "        text-align: right;\n",
       "    }\n",
       "</style>\n",
       "<table border=\"1\" class=\"dataframe\">\n",
       "  <thead>\n",
       "    <tr style=\"text-align: right;\">\n",
       "      <th></th>\n",
       "      <th>title_text</th>\n",
       "      <th>word_count</th>\n",
       "      <th>is_text</th>\n",
       "      <th>is_media</th>\n",
       "      <th>is_spoiler</th>\n",
       "      <th>sentiment_score</th>\n",
       "      <th>titletext</th>\n",
       "      <th>id</th>\n",
       "      <th>is_discworld</th>\n",
       "      <th>preds</th>\n",
       "      <th>false_preds</th>\n",
       "    </tr>\n",
       "  </thead>\n",
       "  <tbody>\n",
       "    <tr>\n",
       "      <th>28</th>\n",
       "      <td>fountain pen \" skybreaker \"</td>\n",
       "      <td>7</td>\n",
       "      <td>0</td>\n",
       "      <td>0</td>\n",
       "      <td>0</td>\n",
       "      <td>0.0000</td>\n",
       "      <td>i make fountain pens. this is “skybreaker”</td>\n",
       "      <td>10ltux7</td>\n",
       "      <td>0</td>\n",
       "      <td>1</td>\n",
       "      <td>1</td>\n",
       "    </tr>\n",
       "    <tr>\n",
       "      <th>76</th>\n",
       "      <td>size book invest portability aside version dif...</td>\n",
       "      <td>17</td>\n",
       "      <td>0</td>\n",
       "      <td>1</td>\n",
       "      <td>0</td>\n",
       "      <td>0.0000</td>\n",
       "      <td>what size of books should i invest in? portabi...</td>\n",
       "      <td>11axtkd</td>\n",
       "      <td>0</td>\n",
       "      <td>1</td>\n",
       "      <td>1</td>\n",
       "    </tr>\n",
       "    <tr>\n",
       "      <th>129</th>\n",
       "      <td>think i d drawing hrathen</td>\n",
       "      <td>8</td>\n",
       "      <td>0</td>\n",
       "      <td>1</td>\n",
       "      <td>0</td>\n",
       "      <td>0.0000</td>\n",
       "      <td>thought i'd have a go at drawing hrathen</td>\n",
       "      <td>11bqadv</td>\n",
       "      <td>0</td>\n",
       "      <td>1</td>\n",
       "      <td>1</td>\n",
       "    </tr>\n",
       "    <tr>\n",
       "      <th>145</th>\n",
       "      <td>magnetic core strong allomancer use planet cor...</td>\n",
       "      <td>40</td>\n",
       "      <td>1</td>\n",
       "      <td>0</td>\n",
       "      <td>0</td>\n",
       "      <td>0.5106</td>\n",
       "      <td>magnetic core can strong allomancers use a pla...</td>\n",
       "      <td>10jna72</td>\n",
       "      <td>0</td>\n",
       "      <td>1</td>\n",
       "      <td>1</td>\n",
       "    </tr>\n",
       "    <tr>\n",
       "      <th>153</th>\n",
       "      <td>reread stuff</td>\n",
       "      <td>7</td>\n",
       "      <td>0</td>\n",
       "      <td>1</td>\n",
       "      <td>0</td>\n",
       "      <td>0.0000</td>\n",
       "      <td>i really have to reread some stuff</td>\n",
       "      <td>11hyqze</td>\n",
       "      <td>0</td>\n",
       "      <td>1</td>\n",
       "      <td>1</td>\n",
       "    </tr>\n",
       "    <tr>\n",
       "      <th>159</th>\n",
       "      <td>find quote sanderson local newspaper</td>\n",
       "      <td>9</td>\n",
       "      <td>0</td>\n",
       "      <td>1</td>\n",
       "      <td>0</td>\n",
       "      <td>0.0000</td>\n",
       "      <td>found a quote from sanderson in my local newsp...</td>\n",
       "      <td>10h1iw6</td>\n",
       "      <td>0</td>\n",
       "      <td>1</td>\n",
       "      <td>1</td>\n",
       "    </tr>\n",
       "    <tr>\n",
       "      <th>197</th>\n",
       "      <td>handmade birthday gift brother</td>\n",
       "      <td>6</td>\n",
       "      <td>0</td>\n",
       "      <td>0</td>\n",
       "      <td>0</td>\n",
       "      <td>0.4404</td>\n",
       "      <td>handmade birthday gift for my brother!</td>\n",
       "      <td>10m8aak</td>\n",
       "      <td>0</td>\n",
       "      <td>1</td>\n",
       "      <td>1</td>\n",
       "    </tr>\n",
       "    <tr>\n",
       "      <th>323</th>\n",
       "      <td>woman bookmark receive book preorder swag way ...</td>\n",
       "      <td>36</td>\n",
       "      <td>0</td>\n",
       "      <td>0</td>\n",
       "      <td>0</td>\n",
       "      <td>-0.2247</td>\n",
       "      <td>woman on the bookmark? received this with the ...</td>\n",
       "      <td>10pqm9j</td>\n",
       "      <td>0</td>\n",
       "      <td>1</td>\n",
       "      <td>1</td>\n",
       "    </tr>\n",
       "    <tr>\n",
       "      <th>359</th>\n",
       "      <td>pick beauty yesterday yrs physically canon cos...</td>\n",
       "      <td>20</td>\n",
       "      <td>0</td>\n",
       "      <td>1</td>\n",
       "      <td>0</td>\n",
       "      <td>0.5859</td>\n",
       "      <td>i picked up this beauty yesterday! after 4 yrs...</td>\n",
       "      <td>10lxa3y</td>\n",
       "      <td>0</td>\n",
       "      <td>1</td>\n",
       "      <td>1</td>\n",
       "    </tr>\n",
       "    <tr>\n",
       "      <th>365</th>\n",
       "      <td>want build church survivor shrine struggle kid...</td>\n",
       "      <td>128</td>\n",
       "      <td>1</td>\n",
       "      <td>0</td>\n",
       "      <td>0</td>\n",
       "      <td>0.4203</td>\n",
       "      <td>want to build a church of the survivor shrine ...</td>\n",
       "      <td>10mfb7a</td>\n",
       "      <td>0</td>\n",
       "      <td>1</td>\n",
       "      <td>1</td>\n",
       "    </tr>\n",
       "    <tr>\n",
       "      <th>380</th>\n",
       "      <td>compare complexity cosmere give new meaning ep...</td>\n",
       "      <td>87</td>\n",
       "      <td>1</td>\n",
       "      <td>0</td>\n",
       "      <td>0</td>\n",
       "      <td>0.8588</td>\n",
       "      <td>is there anything out there that even compares...</td>\n",
       "      <td>10ub14n</td>\n",
       "      <td>0</td>\n",
       "      <td>1</td>\n",
       "      <td>1</td>\n",
       "    </tr>\n",
       "    <tr>\n",
       "      <th>452</th>\n",
       "      <td>accent kramer use waynelopen have not able ide...</td>\n",
       "      <td>35</td>\n",
       "      <td>1</td>\n",
       "      <td>0</td>\n",
       "      <td>0</td>\n",
       "      <td>-0.2732</td>\n",
       "      <td>what accent does kramer use for wayne/lopen? i...</td>\n",
       "      <td>10ez4xn</td>\n",
       "      <td>0</td>\n",
       "      <td>1</td>\n",
       "      <td>1</td>\n",
       "    </tr>\n",
       "    <tr>\n",
       "      <th>456</th>\n",
       "      <td>shadesmar heraldic epochs era map see copy wok...</td>\n",
       "      <td>14</td>\n",
       "      <td>0</td>\n",
       "      <td>0</td>\n",
       "      <td>0</td>\n",
       "      <td>0.0000</td>\n",
       "      <td>shadesmar and heraldic epochs era maps i saw i...</td>\n",
       "      <td>10t169v</td>\n",
       "      <td>0</td>\n",
       "      <td>1</td>\n",
       "      <td>1</td>\n",
       "    </tr>\n",
       "    <tr>\n",
       "      <th>494</th>\n",
       "      <td>fly shatter plane month ago pilburra country w...</td>\n",
       "      <td>14</td>\n",
       "      <td>0</td>\n",
       "      <td>1</td>\n",
       "      <td>0</td>\n",
       "      <td>0.0000</td>\n",
       "      <td>i flew over the shattered planes a few months ...</td>\n",
       "      <td>10tz5mo</td>\n",
       "      <td>0</td>\n",
       "      <td>1</td>\n",
       "      <td>1</td>\n",
       "    </tr>\n",
       "    <tr>\n",
       "      <th>552</th>\n",
       "      <td>kelsi fortnite skin come I ’d buy</td>\n",
       "      <td>11</td>\n",
       "      <td>1</td>\n",
       "      <td>0</td>\n",
       "      <td>0</td>\n",
       "      <td>0.0000</td>\n",
       "      <td>will the kelsier fortnite skin ever come back?...</td>\n",
       "      <td>1193ka2</td>\n",
       "      <td>0</td>\n",
       "      <td>1</td>\n",
       "      <td>1</td>\n",
       "    </tr>\n",
       "  </tbody>\n",
       "</table>\n",
       "</div>"
      ],
      "text/plain": [
       "                                            title_text  word_count  is_text  \\\n",
       "28                         fountain pen \" skybreaker \"           7        0   \n",
       "76   size book invest portability aside version dif...          17        0   \n",
       "129                          think i d drawing hrathen           8        0   \n",
       "145  magnetic core strong allomancer use planet cor...          40        1   \n",
       "153                                       reread stuff           7        0   \n",
       "159               find quote sanderson local newspaper           9        0   \n",
       "197                     handmade birthday gift brother           6        0   \n",
       "323  woman bookmark receive book preorder swag way ...          36        0   \n",
       "359  pick beauty yesterday yrs physically canon cos...          20        0   \n",
       "365  want build church survivor shrine struggle kid...         128        1   \n",
       "380  compare complexity cosmere give new meaning ep...          87        1   \n",
       "452  accent kramer use waynelopen have not able ide...          35        1   \n",
       "456  shadesmar heraldic epochs era map see copy wok...          14        0   \n",
       "494  fly shatter plane month ago pilburra country w...          14        0   \n",
       "552                  kelsi fortnite skin come I ’d buy          11        1   \n",
       "\n",
       "     is_media  is_spoiler  sentiment_score  \\\n",
       "28          0           0           0.0000   \n",
       "76          1           0           0.0000   \n",
       "129         1           0           0.0000   \n",
       "145         0           0           0.5106   \n",
       "153         1           0           0.0000   \n",
       "159         1           0           0.0000   \n",
       "197         0           0           0.4404   \n",
       "323         0           0          -0.2247   \n",
       "359         1           0           0.5859   \n",
       "365         0           0           0.4203   \n",
       "380         0           0           0.8588   \n",
       "452         0           0          -0.2732   \n",
       "456         0           0           0.0000   \n",
       "494         1           0           0.0000   \n",
       "552         0           0           0.0000   \n",
       "\n",
       "                                             titletext       id  is_discworld  \\\n",
       "28          i make fountain pens. this is “skybreaker”  10ltux7             0   \n",
       "76   what size of books should i invest in? portabi...  11axtkd             0   \n",
       "129           thought i'd have a go at drawing hrathen  11bqadv             0   \n",
       "145  magnetic core can strong allomancers use a pla...  10jna72             0   \n",
       "153                 i really have to reread some stuff  11hyqze             0   \n",
       "159  found a quote from sanderson in my local newsp...  10h1iw6             0   \n",
       "197             handmade birthday gift for my brother!  10m8aak             0   \n",
       "323  woman on the bookmark? received this with the ...  10pqm9j             0   \n",
       "359  i picked up this beauty yesterday! after 4 yrs...  10lxa3y             0   \n",
       "365  want to build a church of the survivor shrine ...  10mfb7a             0   \n",
       "380  is there anything out there that even compares...  10ub14n             0   \n",
       "452  what accent does kramer use for wayne/lopen? i...  10ez4xn             0   \n",
       "456  shadesmar and heraldic epochs era maps i saw i...  10t169v             0   \n",
       "494  i flew over the shattered planes a few months ...  10tz5mo             0   \n",
       "552  will the kelsier fortnite skin ever come back?...  1193ka2             0   \n",
       "\n",
       "     preds  false_preds  \n",
       "28       1            1  \n",
       "76       1            1  \n",
       "129      1            1  \n",
       "145      1            1  \n",
       "153      1            1  \n",
       "159      1            1  \n",
       "197      1            1  \n",
       "323      1            1  \n",
       "359      1            1  \n",
       "365      1            1  \n",
       "380      1            1  \n",
       "452      1            1  \n",
       "456      1            1  \n",
       "494      1            1  \n",
       "552      1            1  "
      ]
     },
     "execution_count": 40,
     "metadata": {},
     "output_type": "execute_result"
    }
   ],
   "source": [
    "wrong_cm=comparing_preds[(comparing_preds['false_preds']==1) & (comparing_preds['is_discworld']==0)]\n",
    "wrong_cm"
   ]
  },
  {
   "cell_type": "code",
   "execution_count": 41,
   "id": "8a5f5973-4628-4034-88ca-fb7f85ba3dda",
   "metadata": {
    "scrolled": true
   },
   "outputs": [
    {
     "name": "stdout",
     "output_type": "stream",
     "text": [
      "i make fountain pens. this is “skybreaker”\n",
      " \n",
      "-----\n",
      "what size of books should i invest in? portability aside is there a version difference across sizes?\n",
      " \n",
      "-----\n",
      "thought i'd have a go at drawing hrathen\n",
      " \n",
      "-----\n",
      "magnetic core can strong allomancers use a planets core as a foundation for pulls and pushes. i have read sixth part 2 excerpt and the landing pad shouldn't be necessary on planets with an iron or at least ferrous core.\n",
      " \n",
      "-----\n",
      "i really have to reread some stuff\n",
      " \n",
      "-----\n",
      "found a quote from sanderson in my local newspaper\n",
      " \n",
      "-----\n",
      "handmade birthday gift for my brother!\n",
      " \n",
      "-----\n",
      "woman on the bookmark? received this with the first book as a preorder swag way back when...just realized i have no idea who the woman is? does anyone have insight or am i totally missing it?\n",
      " \n",
      "-----\n",
      "i picked up this beauty yesterday! after 4 yrs, i physically own all canon cosmere works (aside from physical totes)\n",
      " \n",
      "-----\n",
      "want to build a church of the survivor shrine for my struggling kiddo one of my kids is a massive sanderson fan, particularly mistborn and elantris but has read everything. recently he has really been struggling. we almost lost him recently, he ended up being hospitalized for two weeks, has constant doctor visits and has a very long road ahead of him to recovery. \n",
      "\n",
      "i want to create a full \"shrine\" that could be from the church of the survivor/survivorists. but i don't know the series well enough to have any good ideas and can't find any art for it. i am thinking the centerpiece will be a \"survive\" sign, but what else should i add? anyone have some ideas or images that would fit there? thank you.\n",
      " \n",
      "-----\n",
      "is there anything out there that even compares to the complexity of the cosmere? it gives a whole new meaning to 'epic' fantasy. not to mention the fact that we have an author with such a great work ethic, who is managing to pump out novels and hit deadlines. so frustrating waiting for doors of stone for example.\n",
      "is there anything out there that's finished that compared to this level of complexity and imagination?\n",
      "i fucking love these books. i've laughed and cried over and over again.\n",
      " \n",
      "-----\n",
      "what accent does kramer use for wayne/lopen? i haven't been able to identify it. people say australian but i'm australian and it most certainly is not. is he just really bad at an aussie accent?\n",
      " \n",
      "-----\n",
      "shadesmar and heraldic epochs era maps i saw in a copy of wok today\n",
      " \n",
      "-----\n",
      "i flew over the shattered planes a few months ago. pilburra country western australia.\n",
      " \n",
      "-----\n",
      "will the kelsier fortnite skin ever come back? i’d buy it\n",
      " \n",
      "-----\n"
     ]
    }
   ],
   "source": [
    "for _, row in wrong_cm.iterrows():\n",
    "    print(row['titletext'])\n",
    "    print(' ')\n",
    "    print('-----')"
   ]
  },
  {
   "cell_type": "markdown",
   "id": "0d04c7b4-c5d6-4c80-86ff-b9c5e1b3589b",
   "metadata": {},
   "source": [
    "### Possible reasons why the model predicted these postings wrongly:"
   ]
  },
  {
   "cell_type": "markdown",
   "id": "05fd06bc-13a7-4726-8018-201900153402",
   "metadata": {},
   "source": [
    "`is_spoiler`: As we have seen earlier in the EDA, 78% of r/Cosmere posts have been tagged as spoilers, where as only 5% of r/discworld posts are tagged as spoilers. It is observed that none of the wrong predictions for r/Cosmere posts are tagged as spoilers whereas most of the wrong predictions for r/disworld were tagged as spoilers. However, we do not recommend to remove `is_spoiler` feature from the model as it had correctly predicted 237 r/discworld posts with spoiler tags vs 11 it had missed out. And it had also correctly predicted 48 r/Cosmere posts without spoiler tags vs 15 it had missed out. Therefore `is_spoiler` features adds more to the model than removes\n"
   ]
  },
  {
   "cell_type": "markdown",
   "id": "ec979d50-bf7e-40d1-8dd6-bec9adeb54be",
   "metadata": {},
   "source": [
    "<img src=\"../Pictures/Wrong_Classification2.png\" style=\"float: left; margin: 20px; height: 500px\">"
   ]
  },
  {
   "cell_type": "markdown",
   "id": "34e2718b-5499-453f-b328-22dd9aaaa69e",
   "metadata": {
    "tags": []
   },
   "source": [
    "We have also seen doing EDA, that only 12% of r/Cosmere posts are not Text-only posts, whereas 56% of r/discworld posts are not Text-only posts. The Title of the post: \n",
    "> \"Handmade Birthday Gift for my Brother\".   \n",
    "\n",
    "is generic enough that it could fit into any subs. Though it is obvious from the picture that this is a r/Cosmere post as it dicpict a miniature bookcase with books from Brandon Sanderson. Image detection could be a enhancement for future improvements in the model.\n"
   ]
  },
  {
   "cell_type": "markdown",
   "id": "a59ebc9b-3e04-4e65-9c48-fb508b5e3ab0",
   "metadata": {},
   "source": [
    "<img src=\"../Pictures/Wrong_Classification.png\" style=\"float: left; margin: 20px; height: 300px\">"
   ]
  },
  {
   "cell_type": "markdown",
   "id": "7f0e1e38-49a1-4785-ba76-38667dda9fa1",
   "metadata": {},
   "source": [
    "This post is posted in r/discworld but wrongly predicted as a r/Cosmere post. A possible reason why it was wrongly classified was that there are more r/Cosmere-related phrases such as : `Sanderson` (repeated 3 times), `Mistborn Trilogy` than r/discworld, and many common words such as: `books`, `read`. \n",
    "\n",
    "Reading the posts, it seems to still be appropriate to be posted on r/discworld as OP would like the opinion of those who have read both Discworld and Cosmere series on their views of how the 2 compare and if the Discowrld series are more light-hearted. Though a better forum may be r/fantasy where Redditors can seek the the community's reccommendation of books that fit a certain theme. \n",
    "\n",
    "Such examples showcases the predicting limitation of machine learning models, and it may not be possible to get 100% accuracy."
   ]
  },
  {
   "cell_type": "code",
   "execution_count": null,
   "id": "5dbd50bf-35a7-4dcd-890e-b8b59498cbd0",
   "metadata": {
    "scrolled": true
   },
   "outputs": [],
   "source": []
  }
 ],
 "metadata": {
  "kernelspec": {
   "display_name": "dsi-sg",
   "language": "python",
   "name": "dsi-sg"
  },
  "language_info": {
   "codemirror_mode": {
    "name": "ipython",
    "version": 3
   },
   "file_extension": ".py",
   "mimetype": "text/x-python",
   "name": "python",
   "nbconvert_exporter": "python",
   "pygments_lexer": "ipython3",
   "version": "3.9.13"
  }
 },
 "nbformat": 4,
 "nbformat_minor": 5
}
